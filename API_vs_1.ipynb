{
 "cells": [
  {
   "cell_type": "markdown",
   "id": "e27bb2d1",
   "metadata": {},
   "source": [
    "## **Google Flights API**"
   ]
  },
  {
   "cell_type": "code",
   "execution_count": 1,
   "id": "8db4df11",
   "metadata": {},
   "outputs": [],
   "source": [
    "import pandas as pd\n",
    "import requests\n",
    "import json"
   ]
  },
  {
   "cell_type": "markdown",
   "id": "0ba7617c",
   "metadata": {},
   "source": [
    "### Function to run API:"
   ]
  },
  {
   "cell_type": "code",
   "execution_count": 2,
   "id": "de349367",
   "metadata": {},
   "outputs": [],
   "source": [
    "def run_API (dep_id, arr_id, date):\n",
    "    url = \"https://google-flights2.p.rapidapi.com/api/v1/searchFlights\"\n",
    "    headers = {\"X-RapidAPI-Key\": \"ba7cdcaca5mshe733bf910269aafp1b245cjsnef6eeb88a0b5\",\n",
    "               \"X-RapidAPI-Host\": \"google-flights2.p.rapidapi.com\"\n",
    "    }\n",
    "\n",
    "    querystring = {\"departure_id\": dep_id,\n",
    "    \"arrival_id\": arr_id,\n",
    "    \"outbound_date\": date,\n",
    "    }\n",
    "\n",
    "    response = requests.get(url, headers=headers, params=querystring)\n",
    "\n",
    "    try:\n",
    "        response = requests.get(url, headers=headers, params=querystring)\n",
    "        response.raise_for_status()  # Raises an HTTPError for bad responses\n",
    "\n",
    "        data = response.json()\n",
    "\n",
    "        # Optionally process or return the data\n",
    "        return data\n",
    "\n",
    "    except requests.exceptions.HTTPError as http_err:\n",
    "        print(f\"HTTP error occurred: {http_err}\")\n",
    "    except Exception as err:\n",
    "        print(f\"An error occurred: {err}\")\n",
    "\n",
    "    # Return None if there is an error\n",
    "    return None\n",
    "    "
   ]
  },
  {
   "cell_type": "code",
   "execution_count": 3,
   "id": "a47cec6b",
   "metadata": {},
   "outputs": [],
   "source": [
    "dep_id = \"GIG\"\n",
    "arr_id = \"CDG\"\n",
    "date = \"2025-12-10\"\n",
    "\n",
    "data = run_API(dep_id, arr_id, date)"
   ]
  },
  {
   "cell_type": "markdown",
   "id": "65aacdf4",
   "metadata": {},
   "source": [
    "### Function to get dataframe with data from API response:"
   ]
  },
  {
   "cell_type": "code",
   "execution_count": 4,
   "id": "476c50c7",
   "metadata": {},
   "outputs": [],
   "source": [
    "def normalize(row):\n",
    "    flight_info = pd.json_normalize(row)\n",
    "    return flight_info"
   ]
  },
  {
   "cell_type": "code",
   "execution_count": 5,
   "id": "6c2286c9",
   "metadata": {},
   "outputs": [],
   "source": [
    "def get_df(API_info):\n",
    "    df_0 = pd.json_normalize(API_info)\n",
    "    df_0 = pd.json_normalize(df_0['data.itineraries.topFlights'][0], sep='_')\n",
    "    df_1 = normalize(df_0[\"flights\"])\n",
    "    df_2 = normalize(df_1[0])\n",
    "    df_3 = pd.concat([df_0, df_2], axis=1)\n",
    "    df_4 = df_3.drop(columns=[\"flights\", \"airline_logo\", \"duration_raw\", \"booking_token\", \"extensions\", \"departure_airport.time\", \"arrival_airport.time\", \"self_transfer\", \"layovers\", \"delay_values\", \"delay_text\", \"duration.raw\", \"duration.text\", \"carbon_emissions_difference_percent\", \"carbon_emissions_CO2e\", \"carbon_emissions_typical_for_this_route\", \"carbon_emissions_higher\", \"carbon_emissions_difference_percent\", \"carbon_emissions_CO2e\", \"carbon_emissions_typical_for_this_route\", \"carbon_emissions_higher\"])\n",
    "    return df_4\n",
    "    \n"
   ]
  },
  {
   "cell_type": "code",
   "execution_count": 6,
   "id": "760315fc",
   "metadata": {},
   "outputs": [],
   "source": [
    "data = run_API(dep_id, arr_id, date)"
   ]
  },
  {
   "cell_type": "code",
   "execution_count": 7,
   "id": "89e3171d",
   "metadata": {},
   "outputs": [
    {
     "data": {
      "text/html": [
       "<div>\n",
       "<style scoped>\n",
       "    .dataframe tbody tr th:only-of-type {\n",
       "        vertical-align: middle;\n",
       "    }\n",
       "\n",
       "    .dataframe tbody tr th {\n",
       "        vertical-align: top;\n",
       "    }\n",
       "\n",
       "    .dataframe thead th {\n",
       "        text-align: right;\n",
       "    }\n",
       "</style>\n",
       "<table border=\"1\" class=\"dataframe\">\n",
       "  <thead>\n",
       "    <tr style=\"text-align: right;\">\n",
       "      <th></th>\n",
       "      <th>departure_time</th>\n",
       "      <th>arrival_time</th>\n",
       "      <th>price</th>\n",
       "      <th>stops</th>\n",
       "      <th>duration_text</th>\n",
       "      <th>bags_carry_on</th>\n",
       "      <th>bags_checked</th>\n",
       "      <th>airline</th>\n",
       "      <th>flight_number</th>\n",
       "      <th>aircraft</th>\n",
       "      <th>seat</th>\n",
       "      <th>legroom</th>\n",
       "      <th>departure_airport.airport_name</th>\n",
       "      <th>departure_airport.airport_code</th>\n",
       "      <th>arrival_airport.airport_name</th>\n",
       "      <th>arrival_airport.airport_code</th>\n",
       "    </tr>\n",
       "  </thead>\n",
       "  <tbody>\n",
       "    <tr>\n",
       "      <th>0</th>\n",
       "      <td>10-12-2025 03:20 PM</td>\n",
       "      <td>11-12-2025 09:30 AM</td>\n",
       "      <td>490</td>\n",
       "      <td>0</td>\n",
       "      <td>14 hr 10 min</td>\n",
       "      <td>1</td>\n",
       "      <td>None</td>\n",
       "      <td>LATAM</td>\n",
       "      <td>LA 3429</td>\n",
       "      <td>Airbus A321</td>\n",
       "      <td>Below average legroom</td>\n",
       "      <td>28 in</td>\n",
       "      <td>RIOgaleão International Airport</td>\n",
       "      <td>GIG</td>\n",
       "      <td>São Paulo/Guarulhos–Governor André Franco Mont...</td>\n",
       "      <td>GRU</td>\n",
       "    </tr>\n",
       "  </tbody>\n",
       "</table>\n",
       "</div>"
      ],
      "text/plain": [
       "        departure_time         arrival_time  price  stops duration_text  \\\n",
       "0  10-12-2025 03:20 PM  11-12-2025 09:30 AM    490      0  14 hr 10 min   \n",
       "\n",
       "   bags_carry_on bags_checked airline flight_number     aircraft  \\\n",
       "0              1         None   LATAM       LA 3429  Airbus A321   \n",
       "\n",
       "                    seat legroom   departure_airport.airport_name  \\\n",
       "0  Below average legroom   28 in  RIOgaleão International Airport   \n",
       "\n",
       "  departure_airport.airport_code  \\\n",
       "0                            GIG   \n",
       "\n",
       "                        arrival_airport.airport_name  \\\n",
       "0  São Paulo/Guarulhos–Governor André Franco Mont...   \n",
       "\n",
       "  arrival_airport.airport_code  \n",
       "0                          GRU  "
      ]
     },
     "execution_count": 7,
     "metadata": {},
     "output_type": "execute_result"
    }
   ],
   "source": [
    "df = get_df(data)\n",
    "df.head()"
   ]
  },
  {
   "cell_type": "code",
   "execution_count": 8,
   "id": "a940d730",
   "metadata": {},
   "outputs": [
    {
     "data": {
      "text/html": [
       "<div>\n",
       "<style scoped>\n",
       "    .dataframe tbody tr th:only-of-type {\n",
       "        vertical-align: middle;\n",
       "    }\n",
       "\n",
       "    .dataframe tbody tr th {\n",
       "        vertical-align: top;\n",
       "    }\n",
       "\n",
       "    .dataframe thead th {\n",
       "        text-align: right;\n",
       "    }\n",
       "</style>\n",
       "<table border=\"1\" class=\"dataframe\">\n",
       "  <thead>\n",
       "    <tr style=\"text-align: right;\">\n",
       "      <th></th>\n",
       "      <th>name</th>\n",
       "      <th>city</th>\n",
       "      <th>country</th>\n",
       "      <th>IATA</th>\n",
       "      <th>ICAO</th>\n",
       "      <th>lat</th>\n",
       "      <th>long</th>\n",
       "      <th>alt</th>\n",
       "      <th>timezone</th>\n",
       "      <th>DST</th>\n",
       "    </tr>\n",
       "  </thead>\n",
       "  <tbody>\n",
       "    <tr>\n",
       "      <th>0</th>\n",
       "      <td>7 Novembre</td>\n",
       "      <td>Tabarka</td>\n",
       "      <td>Tunisia</td>\n",
       "      <td>TBJ</td>\n",
       "      <td>DTKA</td>\n",
       "      <td>36.978333</td>\n",
       "      <td>8.876389</td>\n",
       "      <td>0</td>\n",
       "      <td>100</td>\n",
       "      <td>E</td>\n",
       "    </tr>\n",
       "    <tr>\n",
       "      <th>1</th>\n",
       "      <td>A Coruna</td>\n",
       "      <td>La Coruna</td>\n",
       "      <td>Spain</td>\n",
       "      <td>LCG</td>\n",
       "      <td>LECO</td>\n",
       "      <td>43.302061</td>\n",
       "      <td>-8.377256</td>\n",
       "      <td>326</td>\n",
       "      <td>100</td>\n",
       "      <td>E</td>\n",
       "    </tr>\n",
       "    <tr>\n",
       "      <th>2</th>\n",
       "      <td>Aalborg</td>\n",
       "      <td>Aalborg</td>\n",
       "      <td>Denmark</td>\n",
       "      <td>AAL</td>\n",
       "      <td>EKYT</td>\n",
       "      <td>57.092789</td>\n",
       "      <td>9.849164</td>\n",
       "      <td>10</td>\n",
       "      <td>100</td>\n",
       "      <td>E</td>\n",
       "    </tr>\n",
       "    <tr>\n",
       "      <th>3</th>\n",
       "      <td>Aarhus</td>\n",
       "      <td>Aarhus</td>\n",
       "      <td>Denmark</td>\n",
       "      <td>AAR</td>\n",
       "      <td>EKAH</td>\n",
       "      <td>56.300017</td>\n",
       "      <td>10.619008</td>\n",
       "      <td>82</td>\n",
       "      <td>100</td>\n",
       "      <td>E</td>\n",
       "    </tr>\n",
       "    <tr>\n",
       "      <th>4</th>\n",
       "      <td>Aasiaat</td>\n",
       "      <td>Aasiaat</td>\n",
       "      <td>Greenland</td>\n",
       "      <td>JEG</td>\n",
       "      <td>BGEM</td>\n",
       "      <td>68.700000</td>\n",
       "      <td>-52.750000</td>\n",
       "      <td>2</td>\n",
       "      <td>-300</td>\n",
       "      <td>E</td>\n",
       "    </tr>\n",
       "  </tbody>\n",
       "</table>\n",
       "</div>"
      ],
      "text/plain": [
       "         name       city    country IATA  ICAO        lat       long  alt  \\\n",
       "0  7 Novembre    Tabarka    Tunisia  TBJ  DTKA  36.978333   8.876389    0   \n",
       "1    A Coruna  La Coruna      Spain  LCG  LECO  43.302061  -8.377256  326   \n",
       "2     Aalborg    Aalborg    Denmark  AAL  EKYT  57.092789   9.849164   10   \n",
       "3      Aarhus     Aarhus    Denmark  AAR  EKAH  56.300017  10.619008   82   \n",
       "4     Aasiaat    Aasiaat  Greenland  JEG  BGEM  68.700000 -52.750000    2   \n",
       "\n",
       "   timezone DST  \n",
       "0       100   E  \n",
       "1       100   E  \n",
       "2       100   E  \n",
       "3       100   E  \n",
       "4      -300   E  "
      ]
     },
     "execution_count": 8,
     "metadata": {},
     "output_type": "execute_result"
    }
   ],
   "source": [
    "df_airports = pd.read_csv(\"/Users/laurasuemitsu/Desktop/DATA_FT_May_2025/Final project/airports.txt\", sep=\";\", header=None)\n",
    "df_airports.columns = [\"name\", \"city\", \"country\", \"IATA\", \"ICAO\", \"lat\", \"long\", \"alt\", \"timezone\", \"DST\"]\n",
    "df_airports.head()"
   ]
  },
  {
   "cell_type": "code",
   "execution_count": 9,
   "id": "382b072e",
   "metadata": {},
   "outputs": [],
   "source": [
    "# Name\tName of airport. May or may not contain the City name.\n",
    "# City\tMain city served by airport. May be spelled differently from Name.\n",
    "# Country\tCountry or territory where airport is located.\n",
    "# IATA\t3-letter IATA code (identifier).\n",
    "# ICAO\t4-letter ICAO code.\n",
    "# Latitude\tDecimal degrees, usually to six significant digits. Negative is South, positive is North.\n",
    "# Longitude\tDecimal degrees, usually to six significant digits. Negative is West, positive is East.\n",
    "# Altitude\tIn feet.\n",
    "# Timezone\tHours offset from UTC.\n",
    "# DST\tDaylight savings time. One of E (Europe), A (US/Canada), S (South America), O (Australia), Z (New Zealand), N (None) or U (Unknown).\n"
   ]
  },
  {
   "cell_type": "code",
   "execution_count": 10,
   "id": "b1a70c58",
   "metadata": {},
   "outputs": [
    {
     "data": {
      "text/html": [
       "<div>\n",
       "<style scoped>\n",
       "    .dataframe tbody tr th:only-of-type {\n",
       "        vertical-align: middle;\n",
       "    }\n",
       "\n",
       "    .dataframe tbody tr th {\n",
       "        vertical-align: top;\n",
       "    }\n",
       "\n",
       "    .dataframe thead th {\n",
       "        text-align: right;\n",
       "    }\n",
       "</style>\n",
       "<table border=\"1\" class=\"dataframe\">\n",
       "  <thead>\n",
       "    <tr style=\"text-align: right;\">\n",
       "      <th></th>\n",
       "      <th>city</th>\n",
       "      <th>IATA</th>\n",
       "    </tr>\n",
       "  </thead>\n",
       "  <tbody>\n",
       "    <tr>\n",
       "      <th>0</th>\n",
       "      <td>Tabarka</td>\n",
       "      <td>TBJ</td>\n",
       "    </tr>\n",
       "    <tr>\n",
       "      <th>1</th>\n",
       "      <td>La Coruna</td>\n",
       "      <td>LCG</td>\n",
       "    </tr>\n",
       "    <tr>\n",
       "      <th>2</th>\n",
       "      <td>Aalborg</td>\n",
       "      <td>AAL</td>\n",
       "    </tr>\n",
       "    <tr>\n",
       "      <th>3</th>\n",
       "      <td>Aarhus</td>\n",
       "      <td>AAR</td>\n",
       "    </tr>\n",
       "    <tr>\n",
       "      <th>4</th>\n",
       "      <td>Aasiaat</td>\n",
       "      <td>JEG</td>\n",
       "    </tr>\n",
       "  </tbody>\n",
       "</table>\n",
       "</div>"
      ],
      "text/plain": [
       "        city IATA\n",
       "0    Tabarka  TBJ\n",
       "1  La Coruna  LCG\n",
       "2    Aalborg  AAL\n",
       "3     Aarhus  AAR\n",
       "4    Aasiaat  JEG"
      ]
     },
     "execution_count": 10,
     "metadata": {},
     "output_type": "execute_result"
    }
   ],
   "source": [
    "df_airports = df_airports[[\"city\", \"IATA\"]]\n",
    "df_airports.head()"
   ]
  },
  {
   "cell_type": "code",
   "execution_count": 11,
   "id": "9f20534c",
   "metadata": {},
   "outputs": [],
   "source": [
    "df_airports.to_csv('airports_codes.csv')"
   ]
  },
  {
   "cell_type": "code",
   "execution_count": 21,
   "id": "82678f9c",
   "metadata": {},
   "outputs": [
    {
     "name": "stdout",
     "output_type": "stream",
     "text": [
      "[{'departure_time': '20-08-2025 08:55 AM', 'arrival_time': '22-08-2025 06:20 AM', 'duration': {'raw': 2305, 'text': '38 hr 25 min'}, 'flights': [{'departure_airport': {'airport_name': 'Toulouse-Blagnac Airport', 'airport_code': 'TLS', 'time': '2025-8-20 08:55'}, 'arrival_airport': {'airport_name': 'Munich International Airport', 'airport_code': 'MUC', 'time': '2025-8-20 10:40'}, 'duration': {'raw': 105, 'text': '1 hr 45 min'}, 'airline': 'Lufthansa', 'airline_logo': 'https://www.gstatic.com/flights/airline_logos/70px/LH.png', 'flight_number': 'LH 2217', 'aircraft': 'Airbus A320neo', 'seat': 'Below average legroom', 'legroom': '29 in', 'extensions': ['Below average legroom (29 in)', 'In-seat USB outlets', 'Emissions estimate: 82 kg CO2e']}, {'departure_airport': {'airport_name': 'Munich International Airport', 'airport_code': 'MUC', 'time': '2025-8-20 14:25'}, 'arrival_airport': {'airport_name': 'Suvarnabhumi Airport', 'airport_code': 'BKK', 'time': '2025-8-21 06:05'}, 'duration': {'raw': 640, 'text': '10 hr 40 min'}, 'airline': 'THAI', 'airline_logo': 'https://www.gstatic.com/flights/airline_logos/70px/TG.png', 'flight_number': 'TG 925', 'aircraft': 'Airbus A350', 'seat': 'Average legroom', 'legroom': '31 in', 'extensions': ['Average legroom (31 in)', 'In-seat power & USB outlets', 'On-demand video', 'Emissions estimate: 547 kg CO2e']}, {'departure_airport': {'airport_name': 'Suvarnabhumi Airport', 'airport_code': 'BKK', 'time': '2025-8-21 22:10'}, 'arrival_airport': {'airport_name': 'Narita International Airport', 'airport_code': 'NRT', 'time': '2025-8-22 06:20'}, 'duration': {'raw': 370, 'text': '6 hr 10 min'}, 'airline': 'THAI', 'airline_logo': 'https://www.gstatic.com/flights/airline_logos/70px/TG.png', 'flight_number': 'TG 640', 'aircraft': 'Airbus A350', 'seat': 'Above average legroom', 'legroom': '32 in', 'extensions': ['Above average legroom (32 in)', 'In-seat power & USB outlets', 'On-demand video', 'Emissions estimate: 348 kg CO2e']}], 'delay': {'values': False, 'text': 0}, 'self_transfer': False, 'layovers': [{'airport_code': 'MUC', 'airport_name': 'Munich International Airport', 'duration_label': '3 hr 45 min', 'duration': 225, 'city': 'Munich'}, {'airport_code': 'BKK', 'airport_name': 'Suvarnabhumi Airport', 'duration_label': '16 hr 5 min', 'duration': 965, 'city': 'Bangkok'}], 'bags': {'carry_on': 1, 'checked': None}, 'carbon_emissions': {'difference_percent': 35, 'CO2e': 977000, 'typical_for_this_route': 723000, 'higher': 254000}, 'price': 830, 'stops': 0, 'airline_logo': 'https://www.gstatic.com/flights/airline_logos/70px/multi.png', 'booking_token': 'W1syLDEsWzEsMCwwLDBdXSxbIjIwMjUtMDgtMjAiLCJUTFMiLCJOUlQiLFtbIlRMUyIsIjIwMjUtMDgtMjAiLCJNVUMiLCJMSCIsIjIyMTciXSxbIk1VQyIsIjIwMjUtMDgtMjAiLCJCS0siLCJURyIsIjkyNSJdLFsiQktLIiwiMjAyNS0wOC0yMSIsIk5SVCIsIlRHIiwiNjQwIl1dXV0='}, {'departure_time': '20-08-2025 06:15 AM', 'arrival_time': '21-08-2025 02:30 PM', 'duration': {'raw': 1515, 'text': '25 hr 15 min'}, 'flights': [{'departure_airport': {'airport_name': 'Toulouse-Blagnac Airport', 'airport_code': 'TLS', 'time': '2025-8-20 06:15'}, 'arrival_airport': {'airport_name': 'Frankfurt Airport', 'airport_code': 'FRA', 'time': '2025-8-20 08:10'}, 'duration': {'raw': 115, 'text': '1 hr 55 min'}, 'airline': 'Lufthansa', 'airline_logo': 'https://www.gstatic.com/flights/airline_logos/70px/LH.png', 'flight_number': 'LH 1101', 'aircraft': 'Airbus A320', 'seat': 'Average legroom', 'legroom': '30 in', 'extensions': ['Average legroom (30 in)', 'Emissions estimate: 98 kg CO2e']}, {'departure_airport': {'airport_name': 'Frankfurt Airport', 'airport_code': 'FRA', 'time': '2025-8-20 13:45'}, 'arrival_airport': {'airport_name': 'Hong Kong International Airport', 'airport_code': 'HKG', 'time': '2025-8-21 07:30'}, 'duration': {'raw': 705, 'text': '11 hr 45 min'}, 'airline': 'Cathay Pacific', 'airline_logo': 'https://www.gstatic.com/flights/airline_logos/70px/CX.png', 'flight_number': 'CX 288', 'aircraft': 'Boeing 777', 'seat': 'Above average legroom', 'legroom': '32 in', 'extensions': ['Above average legroom (32 in)', 'In-seat power & USB outlets', 'On-demand video', 'Free Wi-Fi', 'Wi-Fi for a fee', 'Emissions estimate: 648 kg CO2e']}, {'departure_airport': {'airport_name': 'Hong Kong International Airport', 'airport_code': 'HKG', 'time': '2025-8-21 09:05'}, 'arrival_airport': {'airport_name': 'Narita International Airport', 'airport_code': 'NRT', 'time': '2025-8-21 14:30'}, 'duration': {'raw': 265, 'text': '4 hr 25 min'}, 'airline': 'Cathay Pacific', 'airline_logo': 'https://www.gstatic.com/flights/airline_logos/70px/CX.png', 'flight_number': 'CX 504', 'aircraft': 'Boeing 777', 'seat': 'Average legroom', 'legroom': '31 in', 'extensions': ['Average legroom (31 in)', 'In-seat power & USB outlets', 'On-demand video', 'Free Wi-Fi', 'Wi-Fi for a fee', 'Emissions estimate: 198 kg CO2e']}], 'delay': {'values': False, 'text': 0}, 'self_transfer': False, 'layovers': [{'airport_code': 'FRA', 'airport_name': 'Frankfurt Airport', 'duration_label': '5 hr 35 min', 'duration': 335, 'city': 'Frankfurt am Main'}, {'airport_code': 'HKG', 'airport_name': 'Hong Kong International Airport', 'duration_label': '1 hr 35 min', 'duration': 95, 'city': 'Hong Kong'}], 'bags': {'carry_on': 1, 'checked': None}, 'carbon_emissions': {'difference_percent': 31, 'CO2e': 944000, 'typical_for_this_route': 723000, 'higher': 221000}, 'price': 948, 'stops': 0, 'airline_logo': 'https://www.gstatic.com/flights/airline_logos/70px/multi.png', 'booking_token': 'W1syLDEsWzEsMCwwLDBdXSxbIjIwMjUtMDgtMjAiLCJUTFMiLCJOUlQiLFtbIlRMUyIsIjIwMjUtMDgtMjAiLCJGUkEiLCJMSCIsIjExMDEiXSxbIkZSQSIsIjIwMjUtMDgtMjAiLCJIS0ciLCJDWCIsIjI4OCJdLFsiSEtHIiwiMjAyNS0wOC0yMSIsIk5SVCIsIkNYIiwiNTA0Il1dXV0='}, {'departure_time': '20-08-2025 06:50 AM', 'arrival_time': '21-08-2025 11:55 AM', 'duration': {'raw': 1325, 'text': '22 hr 5 min'}, 'flights': [{'departure_airport': {'airport_name': 'Toulouse-Blagnac Airport', 'airport_code': 'TLS', 'time': '2025-8-20 06:50'}, 'arrival_airport': {'airport_name': 'Brussels Airport', 'airport_code': 'BRU', 'time': '2025-8-20 08:35'}, 'duration': {'raw': 105, 'text': '1 hr 45 min'}, 'airline': 'Brussels Airlines', 'airline_logo': 'https://www.gstatic.com/flights/airline_logos/70px/SN.png', 'flight_number': 'SN 3676', 'aircraft': 'Airbus A319', 'seat': 'Average legroom', 'legroom': '30 in', 'extensions': ['Average legroom (30 in)', 'Emissions estimate: 105 kg CO2e']}, {'departure_airport': {'airport_name': 'Brussels Airport', 'airport_code': 'BRU', 'time': '2025-8-20 13:20'}, 'arrival_airport': {'airport_name': 'Beijing Capital International Airport', 'airport_code': 'PEK', 'time': '2025-8-21 05:10'}, 'duration': {'raw': 590, 'text': '9 hr 50 min'}, 'airline': 'Hainan', 'airline_logo': 'https://www.gstatic.com/flights/airline_logos/70px/HU.png', 'flight_number': 'HU 492', 'aircraft': 'Boeing 787', 'seat': 'Average legroom', 'legroom': '31 in', 'extensions': ['Average legroom (31 in)', 'In-seat power & USB outlets', 'On-demand video', 'Free Wi-Fi', 'Wi-Fi for a fee', 'Emissions estimate: 447 kg CO2e']}, {'departure_airport': {'airport_name': 'Beijing Capital International Airport', 'airport_code': 'PEK', 'time': '2025-8-21 07:20'}, 'arrival_airport': {'airport_name': 'Narita International Airport', 'airport_code': 'NRT', 'time': '2025-8-21 11:55'}, 'duration': {'raw': 215, 'text': '3 hr 35 min'}, 'airline': 'Hainan', 'airline_logo': 'https://www.gstatic.com/flights/airline_logos/70px/HU.png', 'flight_number': 'HU 439', 'aircraft': 'Airbus A330', 'seat': 'Average legroom', 'legroom': '31 in', 'extensions': ['Average legroom (31 in)', 'On-demand video', 'Emissions estimate: 170 kg CO2e']}], 'delay': {'values': False, 'text': 0}, 'self_transfer': False, 'layovers': [{'airport_code': 'BRU', 'airport_name': 'Brussels Airport', 'duration_label': '4 hr 45 min', 'duration': 285, 'city': 'Brussels'}, {'airport_code': 'PEK', 'airport_name': 'Beijing Capital International Airport', 'duration_label': '2 hr 10 min', 'duration': 130, 'city': 'Beijing'}], 'bags': {'carry_on': 1, 'checked': None}, 'carbon_emissions': {'difference_percent': 0, 'CO2e': 722000, 'typical_for_this_route': 723000, 'higher': -1000}, 'price': 1141, 'stops': 0, 'airline_logo': 'https://www.gstatic.com/flights/airline_logos/70px/multi.png', 'booking_token': 'W1syLDEsWzEsMCwwLDBdXSxbIjIwMjUtMDgtMjAiLCJUTFMiLCJOUlQiLFtbIlRMUyIsIjIwMjUtMDgtMjAiLCJCUlUiLCJTTiIsIjM2NzYiXSxbIkJSVSIsIjIwMjUtMDgtMjAiLCJQRUsiLCJIVSIsIjQ5MiJdLFsiUEVLIiwiMjAyNS0wOC0yMSIsIk5SVCIsIkhVIiwiNDM5Il1dXV0='}, {'departure_time': '20-08-2025 05:00 PM', 'arrival_time': '21-08-2025 08:55 PM', 'duration': {'raw': 1255, 'text': '20 hr 55 min'}, 'flights': [{'departure_airport': {'airport_name': 'Toulouse-Blagnac Airport', 'airport_code': 'TLS', 'time': '2025-8-20 17:00'}, 'arrival_airport': {'airport_name': 'Amsterdam Airport Schiphol', 'airport_code': 'AMS', 'time': '2025-8-20 18:55'}, 'duration': {'raw': 115, 'text': '1 hr 55 min'}, 'airline': 'KLM', 'airline_logo': 'https://www.gstatic.com/flights/airline_logos/70px/KL.png', 'flight_number': 'KL 1454', 'aircraft': 'Boeing 737', 'seat': 'Average legroom', 'legroom': '30 in', 'extensions': ['Average legroom (30 in)', 'In-seat USB outlets', 'Emissions estimate: 88 kg CO2e']}, {'departure_airport': {'airport_name': 'Amsterdam Airport Schiphol', 'airport_code': 'AMS', 'time': '2025-8-20 20:15'}, 'arrival_airport': {'airport_name': 'Shanghai Pudong International Airport', 'airport_code': 'PVG', 'time': '2025-8-21 13:15'}, 'duration': {'raw': 660, 'text': '11 hr 0 min'}, 'airline': 'China Eastern', 'airline_logo': 'https://www.gstatic.com/flights/airline_logos/70px/MU.png', 'flight_number': 'MU 772', 'aircraft': 'Boeing 777', 'seat': 'Above average legroom', 'legroom': '32 in', 'extensions': ['Above average legroom (32 in)', 'In-seat power & USB outlets', 'On-demand video', 'Free Wi-Fi', 'Wi-Fi for a fee', 'Emissions estimate: 637 kg CO2e']}, {'departure_airport': {'airport_name': 'Shanghai Pudong International Airport', 'airport_code': 'PVG', 'time': '2025-8-21 16:55'}, 'arrival_airport': {'airport_name': 'Narita International Airport', 'airport_code': 'NRT', 'time': '2025-8-21 20:55'}, 'duration': {'raw': 180, 'text': '3 hr 0 min'}, 'airline': 'China Eastern', 'airline_logo': 'https://www.gstatic.com/flights/airline_logos/70px/MU.png', 'flight_number': 'MU 271', 'aircraft': 'Airbus A321', 'seat': 'Average legroom', 'legroom': '31 in', 'extensions': ['Average legroom (31 in)', 'Emissions estimate: 206 kg CO2e']}], 'delay': {'values': False, 'text': 0}, 'self_transfer': False, 'layovers': [{'airport_code': 'AMS', 'airport_name': 'Amsterdam Airport Schiphol', 'duration_label': '1 hr 20 min', 'duration': 80, 'city': 'Amsterdam'}, {'airport_code': 'PVG', 'airport_name': 'Shanghai Pudong International Airport', 'duration_label': '3 hr 40 min', 'duration': 220, 'city': 'Shanghai'}], 'bags': {'carry_on': 1, 'checked': None}, 'carbon_emissions': {'difference_percent': 29, 'CO2e': 931000, 'typical_for_this_route': 723000, 'higher': 208000}, 'price': 1242, 'stops': 0, 'airline_logo': 'https://www.gstatic.com/flights/airline_logos/70px/multi.png', 'booking_token': 'W1syLDEsWzEsMCwwLDBdXSxbIjIwMjUtMDgtMjAiLCJUTFMiLCJOUlQiLFtbIlRMUyIsIjIwMjUtMDgtMjAiLCJBTVMiLCJLTCIsIjE0NTQiXSxbIkFNUyIsIjIwMjUtMDgtMjAiLCJQVkciLCJNVSIsIjc3MiJdLFsiUFZHIiwiMjAyNS0wOC0yMSIsIk5SVCIsIk1VIiwiMjcxIl1dXV0='}]\n"
     ]
    }
   ],
   "source": [
    "# Function to get the airport code for a given city\n",
    "def get_airport_code(city_name, df):\n",
    "    # Locate the city in the DataFrame\n",
    "    result = df.loc[df['city'] == city_name, 'IATA']\n",
    "    return result.iloc[0] if not result.empty else None\n",
    "\n",
    "# User inputs\n",
    "departure_city = input(\"Enter the departure city: \")\n",
    "arrival_city = input(\"Enter the arrival city: \")\n",
    "date = input(\"Enter the departure date (YYYY-MM-DD): \")\n",
    "\n",
    "# Fetch airport codes using the DataFrame\n",
    "departure_code = get_airport_code(departure_city, df_airports)\n",
    "arrival_code = get_airport_code(arrival_city, df_airports)\n",
    "\n",
    "if departure_code and arrival_code:\n",
    "    result = run_API(departure_code, arrival_code, date)\n",
    "else:\n",
    "    print(\"Error: Could not find airport codes on the database. Please restart the app.\")\n",
    "\n",
    "if not result['data']['itineraries']['topFlights']:\n",
    "    print(\"Error: there are no flights available for these cities and date. Please restart the app.\")\n",
    "else:\n",
    "    print(result['data']['itineraries']['topFlights'])"
   ]
  },
  {
   "cell_type": "code",
   "execution_count": 13,
   "id": "b5ca8d45",
   "metadata": {},
   "outputs": [
    {
     "name": "stdout",
     "output_type": "stream",
     "text": [
      "API call succeeded.\n",
      "Rate limit headers not present in the response.\n"
     ]
    }
   ],
   "source": [
    "def check_api_rate_limit(url, headers):\n",
    "    response = requests.get(url, headers=headers)\n",
    "    \n",
    "    if response.status_code == 200:\n",
    "        print(\"API call succeeded.\")\n",
    "        # Check headers for rate limiting information\n",
    "        limit = response.headers.get('X-RateLimit-Limit')\n",
    "        remaining = response.headers.get('X-RateLimit-Remaining')\n",
    "        reset_time = response.headers.get('X-RateLimit-Reset')\n",
    "        \n",
    "        if limit and remaining:\n",
    "            print(f\"Total allowed requests: {limit}\")\n",
    "            print(f\"Remaining requests: {remaining}\")\n",
    "            if reset_time:\n",
    "                print(f\"Rate limit resets at: {reset_time}\")\n",
    "        else:\n",
    "            print(\"Rate limit headers not present in the response.\")\n",
    "    else:\n",
    "        print(f\"Request failed with status code: {response.status_code}\")\n",
    "\n",
    "# Example Usage\n",
    "url = \"https://google-flights2.p.rapidapi.com/api/v1/searchFlights\"\n",
    "headers = {\"X-RapidAPI-Key\": \"ba7cdcaca5mshe733bf910269aafp1b245cjsnef6eeb88a0b5\",\n",
    "           \"X-RapidAPI-Host\": \"google-flights2.p.rapidapi.com\"\n",
    "          }\n",
    "\n",
    "check_api_rate_limit(url, headers)"
   ]
  },
  {
   "cell_type": "code",
   "execution_count": null,
   "id": "76f85ff2",
   "metadata": {},
   "outputs": [],
   "source": []
  }
 ],
 "metadata": {
  "kernelspec": {
   "display_name": "base",
   "language": "python",
   "name": "python3"
  },
  "language_info": {
   "codemirror_mode": {
    "name": "ipython",
    "version": 3
   },
   "file_extension": ".py",
   "mimetype": "text/x-python",
   "name": "python",
   "nbconvert_exporter": "python",
   "pygments_lexer": "ipython3",
   "version": "3.12.7"
  }
 },
 "nbformat": 4,
 "nbformat_minor": 5
}
