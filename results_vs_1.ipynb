{
 "cells": [
  {
   "cell_type": "code",
   "execution_count": 1,
   "id": "b5beac95",
   "metadata": {},
   "outputs": [],
   "source": [
    "import pandas as pd\n",
    "import json\n",
    "import ast"
   ]
  },
  {
   "cell_type": "code",
   "execution_count": 2,
   "id": "99a4b8cc",
   "metadata": {},
   "outputs": [],
   "source": [
    "file = \"/Users/laurasuemitsu/Desktop/DATA_FT_May_2025/Final project/Tourism datasets Kaggle/Worldwide_Travel_Cities_Dataset_(Ratings_Climate).csv\""
   ]
  },
  {
   "cell_type": "code",
   "execution_count": 3,
   "id": "e9b39d17",
   "metadata": {},
   "outputs": [],
   "source": [
    "travel_df = pd.read_csv(file)"
   ]
  },
  {
   "cell_type": "code",
   "execution_count": 4,
   "id": "452deec5",
   "metadata": {},
   "outputs": [],
   "source": [
    "def wrangling_duration(df):\n",
    "    df[\"avg_temp_monthly\"] = df[\"avg_temp_monthly\"].apply(json.loads)\n",
    "    temp_monthly = pd.json_normalize(df[\"avg_temp_monthly\"])\n",
    "    df = pd.concat([df.drop(columns=[\"avg_temp_monthly\"]), temp_monthly], axis=1)\n",
    "    \n",
    "    for n in range(1,13):\n",
    "        df.drop(columns=[(str(n)) + \".min\", (str(n)) + \".max\"], inplace=True)\n",
    "\n",
    "    df[\"ideal_durations\"] = df[\"ideal_durations\"].apply(ast.literal_eval)\n",
    "\n",
    "    df[\"ideal_durations\"] = df[\"ideal_durations\"].apply(lambda lst: ' '.join(item.strip() for item in lst))\n",
    "\n",
    "    df[\"ideal_durations\"] = [duration.lower() for duration in df[\"ideal_durations\"].values]\n",
    "    return df"
   ]
  },
  {
   "cell_type": "code",
   "execution_count": 5,
   "id": "fcfa9e6c",
   "metadata": {},
   "outputs": [],
   "source": [
    "travel_df = wrangling_duration(travel_df)"
   ]
  },
  {
   "cell_type": "markdown",
   "id": "a4aa0f62",
   "metadata": {},
   "source": [
    "## *Duration filter*"
   ]
  },
  {
   "cell_type": "markdown",
   "id": "c0480df4",
   "metadata": {},
   "source": [
    "### **Asking input for trip duration:**"
   ]
  },
  {
   "cell_type": "code",
   "execution_count": 6,
   "id": "0d92009b",
   "metadata": {},
   "outputs": [
    {
     "name": "stdout",
     "output_type": "stream",
     "text": [
      "weekend\n"
     ]
    }
   ],
   "source": [
    "duration = input(\"How long do you want your trip to be: weekend, short trip, one week or long trip?\").lower()\n",
    "if duration in (\"weekend\", \"short trip\", \"one week\", \"long trip\"):\n",
    "    print(duration)\n",
    "else:\n",
    "    while duration not in (\"weekend\", \"short trip\", \"one week\", \"long trip\"):\n",
    "        duration = input(\"Please enter one of the following values: weekend, short trip, one week or long trip.\").lower()\n",
    "    else:\n",
    "        print(duration)"
   ]
  },
  {
   "cell_type": "markdown",
   "id": "22a40f71",
   "metadata": {},
   "source": [
    "### **Filtering cities:**"
   ]
  },
  {
   "cell_type": "code",
   "execution_count": 7,
   "id": "d5fad340",
   "metadata": {},
   "outputs": [
    {
     "data": {
      "text/plain": [
       "421"
      ]
     },
     "execution_count": 7,
     "metadata": {},
     "output_type": "execute_result"
    }
   ],
   "source": [
    "filtered_cities_1 = [city_name for city_name, durations in zip(travel_df[\"city\"], travel_df[\"ideal_durations\"]) if duration in durations]\n",
    "len(filtered_cities_1)"
   ]
  },
  {
   "cell_type": "markdown",
   "id": "a642c9e4",
   "metadata": {},
   "source": [
    "### **Filtered dataframe:**"
   ]
  },
  {
   "cell_type": "code",
   "execution_count": 8,
   "id": "aefe6b5a",
   "metadata": {},
   "outputs": [],
   "source": [
    "travel_df = travel_df.loc[travel_df[\"ideal_durations\"].str.contains(duration)]"
   ]
  },
  {
   "cell_type": "code",
   "execution_count": 9,
   "id": "adb3ed09",
   "metadata": {},
   "outputs": [
    {
     "data": {
      "text/html": [
       "<div>\n",
       "<style scoped>\n",
       "    .dataframe tbody tr th:only-of-type {\n",
       "        vertical-align: middle;\n",
       "    }\n",
       "\n",
       "    .dataframe tbody tr th {\n",
       "        vertical-align: top;\n",
       "    }\n",
       "\n",
       "    .dataframe thead th {\n",
       "        text-align: right;\n",
       "    }\n",
       "</style>\n",
       "<table border=\"1\" class=\"dataframe\">\n",
       "  <thead>\n",
       "    <tr style=\"text-align: right;\">\n",
       "      <th></th>\n",
       "      <th>id</th>\n",
       "      <th>city</th>\n",
       "      <th>country</th>\n",
       "      <th>region</th>\n",
       "      <th>short_description</th>\n",
       "      <th>latitude</th>\n",
       "      <th>longitude</th>\n",
       "      <th>ideal_durations</th>\n",
       "      <th>budget_level</th>\n",
       "      <th>culture</th>\n",
       "      <th>...</th>\n",
       "      <th>3.avg</th>\n",
       "      <th>4.avg</th>\n",
       "      <th>5.avg</th>\n",
       "      <th>6.avg</th>\n",
       "      <th>7.avg</th>\n",
       "      <th>8.avg</th>\n",
       "      <th>9.avg</th>\n",
       "      <th>10.avg</th>\n",
       "      <th>11.avg</th>\n",
       "      <th>12.avg</th>\n",
       "    </tr>\n",
       "  </thead>\n",
       "  <tbody>\n",
       "    <tr>\n",
       "      <th>2</th>\n",
       "      <td>73036cda-9134-46fc-a2c6-807782d59dfb</td>\n",
       "      <td>Whistler</td>\n",
       "      <td>Canada</td>\n",
       "      <td>north_america</td>\n",
       "      <td>Snow-capped peaks and lush forests create a se...</td>\n",
       "      <td>50.117190</td>\n",
       "      <td>-122.954302</td>\n",
       "      <td>short trip weekend one week</td>\n",
       "      <td>Luxury</td>\n",
       "      <td>3</td>\n",
       "      <td>...</td>\n",
       "      <td>0.2</td>\n",
       "      <td>4.6</td>\n",
       "      <td>9.0</td>\n",
       "      <td>14.1</td>\n",
       "      <td>18.2</td>\n",
       "      <td>17.8</td>\n",
       "      <td>14.5</td>\n",
       "      <td>7.6</td>\n",
       "      <td>1.8</td>\n",
       "      <td>-1.8</td>\n",
       "    </tr>\n",
       "    <tr>\n",
       "      <th>3</th>\n",
       "      <td>3872c9c0-6b6e-49e1-9743-f46bfe591b86</td>\n",
       "      <td>Guanajuato</td>\n",
       "      <td>Mexico</td>\n",
       "      <td>north_america</td>\n",
       "      <td>Winding cobblestone streets and colorful facad...</td>\n",
       "      <td>20.987700</td>\n",
       "      <td>-101.000000</td>\n",
       "      <td>weekend one week short trip</td>\n",
       "      <td>Mid-range</td>\n",
       "      <td>5</td>\n",
       "      <td>...</td>\n",
       "      <td>20.3</td>\n",
       "      <td>23.1</td>\n",
       "      <td>23.3</td>\n",
       "      <td>22.2</td>\n",
       "      <td>20.7</td>\n",
       "      <td>20.6</td>\n",
       "      <td>19.9</td>\n",
       "      <td>19.0</td>\n",
       "      <td>17.7</td>\n",
       "      <td>14.9</td>\n",
       "    </tr>\n",
       "    <tr>\n",
       "      <th>4</th>\n",
       "      <td>e1ebc1b6-8798-422d-847a-22016faff3fd</td>\n",
       "      <td>Surabaya</td>\n",
       "      <td>Indonesia</td>\n",
       "      <td>asia</td>\n",
       "      <td>Bustling streets filled with the aroma of loca...</td>\n",
       "      <td>-7.245972</td>\n",
       "      <td>112.737827</td>\n",
       "      <td>short trip weekend</td>\n",
       "      <td>Budget</td>\n",
       "      <td>4</td>\n",
       "      <td>...</td>\n",
       "      <td>28.3</td>\n",
       "      <td>29.0</td>\n",
       "      <td>29.3</td>\n",
       "      <td>28.7</td>\n",
       "      <td>28.2</td>\n",
       "      <td>28.4</td>\n",
       "      <td>29.2</td>\n",
       "      <td>29.8</td>\n",
       "      <td>29.6</td>\n",
       "      <td>28.7</td>\n",
       "    </tr>\n",
       "    <tr>\n",
       "      <th>6</th>\n",
       "      <td>20f80ed8-ce7f-43ad-a34d-a0cb156f5d4e</td>\n",
       "      <td>Windhoek</td>\n",
       "      <td>Namibia</td>\n",
       "      <td>africa</td>\n",
       "      <td>A blend of modernity and tradition, with bustl...</td>\n",
       "      <td>-22.533560</td>\n",
       "      <td>17.045478</td>\n",
       "      <td>short trip weekend one week</td>\n",
       "      <td>Mid-range</td>\n",
       "      <td>3</td>\n",
       "      <td>...</td>\n",
       "      <td>22.5</td>\n",
       "      <td>20.5</td>\n",
       "      <td>18.3</td>\n",
       "      <td>14.8</td>\n",
       "      <td>15.0</td>\n",
       "      <td>17.9</td>\n",
       "      <td>21.8</td>\n",
       "      <td>24.3</td>\n",
       "      <td>24.9</td>\n",
       "      <td>24.6</td>\n",
       "    </tr>\n",
       "    <tr>\n",
       "      <th>8</th>\n",
       "      <td>4e2d3678-bbb3-428e-a1df-0ba956ef3c77</td>\n",
       "      <td>Nafplio</td>\n",
       "      <td>Greece</td>\n",
       "      <td>europe</td>\n",
       "      <td>Charming cobblestone streets, vibrant bougainv...</td>\n",
       "      <td>37.565923</td>\n",
       "      <td>22.806878</td>\n",
       "      <td>short trip weekend day trip</td>\n",
       "      <td>Mid-range</td>\n",
       "      <td>4</td>\n",
       "      <td>...</td>\n",
       "      <td>11.4</td>\n",
       "      <td>15.2</td>\n",
       "      <td>20.3</td>\n",
       "      <td>25.5</td>\n",
       "      <td>28.3</td>\n",
       "      <td>27.9</td>\n",
       "      <td>23.6</td>\n",
       "      <td>18.5</td>\n",
       "      <td>13.7</td>\n",
       "      <td>9.5</td>\n",
       "    </tr>\n",
       "  </tbody>\n",
       "</table>\n",
       "<p>5 rows × 30 columns</p>\n",
       "</div>"
      ],
      "text/plain": [
       "                                     id        city    country         region  \\\n",
       "2  73036cda-9134-46fc-a2c6-807782d59dfb    Whistler     Canada  north_america   \n",
       "3  3872c9c0-6b6e-49e1-9743-f46bfe591b86  Guanajuato     Mexico  north_america   \n",
       "4  e1ebc1b6-8798-422d-847a-22016faff3fd    Surabaya  Indonesia           asia   \n",
       "6  20f80ed8-ce7f-43ad-a34d-a0cb156f5d4e    Windhoek    Namibia         africa   \n",
       "8  4e2d3678-bbb3-428e-a1df-0ba956ef3c77     Nafplio     Greece         europe   \n",
       "\n",
       "                                   short_description   latitude   longitude  \\\n",
       "2  Snow-capped peaks and lush forests create a se...  50.117190 -122.954302   \n",
       "3  Winding cobblestone streets and colorful facad...  20.987700 -101.000000   \n",
       "4  Bustling streets filled with the aroma of loca...  -7.245972  112.737827   \n",
       "6  A blend of modernity and tradition, with bustl... -22.533560   17.045478   \n",
       "8  Charming cobblestone streets, vibrant bougainv...  37.565923   22.806878   \n",
       "\n",
       "               ideal_durations budget_level  culture  ...  3.avg  4.avg  \\\n",
       "2  short trip weekend one week       Luxury        3  ...    0.2    4.6   \n",
       "3  weekend one week short trip    Mid-range        5  ...   20.3   23.1   \n",
       "4           short trip weekend       Budget        4  ...   28.3   29.0   \n",
       "6  short trip weekend one week    Mid-range        3  ...   22.5   20.5   \n",
       "8  short trip weekend day trip    Mid-range        4  ...   11.4   15.2   \n",
       "\n",
       "   5.avg  6.avg  7.avg  8.avg  9.avg  10.avg  11.avg  12.avg  \n",
       "2    9.0   14.1   18.2   17.8   14.5     7.6     1.8    -1.8  \n",
       "3   23.3   22.2   20.7   20.6   19.9    19.0    17.7    14.9  \n",
       "4   29.3   28.7   28.2   28.4   29.2    29.8    29.6    28.7  \n",
       "6   18.3   14.8   15.0   17.9   21.8    24.3    24.9    24.6  \n",
       "8   20.3   25.5   28.3   27.9   23.6    18.5    13.7     9.5  \n",
       "\n",
       "[5 rows x 30 columns]"
      ]
     },
     "execution_count": 9,
     "metadata": {},
     "output_type": "execute_result"
    }
   ],
   "source": [
    "travel_df.head()"
   ]
  },
  {
   "cell_type": "markdown",
   "id": "3c1880cc",
   "metadata": {},
   "source": [
    "## *Budget filter*"
   ]
  },
  {
   "cell_type": "code",
   "execution_count": 10,
   "id": "f3a6dbc7",
   "metadata": {},
   "outputs": [],
   "source": [
    "def wrangling_budget(df):\n",
    "    df[\"budget_level\"] = [budget.lower() for budget in df[\"budget_level\"].values]\n",
    "    df[\"budget_level\"] = df[\"budget_level\"].replace({\"budget\": \"economic\"})\n",
    "    return df"
   ]
  },
  {
   "cell_type": "code",
   "execution_count": 11,
   "id": "4ab2b0c3",
   "metadata": {},
   "outputs": [],
   "source": [
    "travel_df = wrangling_budget(travel_df)"
   ]
  },
  {
   "cell_type": "markdown",
   "id": "419426bd",
   "metadata": {},
   "source": [
    "### **Asking input for trip budget:**"
   ]
  },
  {
   "cell_type": "code",
   "execution_count": 12,
   "id": "495273ff",
   "metadata": {},
   "outputs": [
    {
     "name": "stdout",
     "output_type": "stream",
     "text": [
      "luxury\n"
     ]
    }
   ],
   "source": [
    "budget = input(\"What is your budget for your trip: luxury, mid-range or economic?\").lower()\n",
    "if budget in ('luxury', 'mid-range', 'economic'):\n",
    "    print(budget)\n",
    "else:\n",
    "    while budget not in ('luxury', 'mid-range', 'economic'):\n",
    "        budget = input(\"Please enter one of the following values: luxury, mid-range or economic.\")\n",
    "    else:\n",
    "        print(budget)"
   ]
  },
  {
   "cell_type": "markdown",
   "id": "5f405799",
   "metadata": {},
   "source": [
    "### **Filtering cities:**"
   ]
  },
  {
   "cell_type": "code",
   "execution_count": 13,
   "id": "324967e9",
   "metadata": {},
   "outputs": [],
   "source": [
    "filtered_cities_2 = [city_name for city_name, budgets in zip(travel_df[\"city\"], travel_df[\"budget_level\"]) if budget in budgets]"
   ]
  },
  {
   "cell_type": "code",
   "execution_count": 14,
   "id": "fab46501",
   "metadata": {},
   "outputs": [
    {
     "data": {
      "text/plain": [
       "29"
      ]
     },
     "execution_count": 14,
     "metadata": {},
     "output_type": "execute_result"
    }
   ],
   "source": [
    "len(filtered_cities_2)"
   ]
  },
  {
   "cell_type": "markdown",
   "id": "acef5201",
   "metadata": {},
   "source": [
    "### **Filtered df:**"
   ]
  },
  {
   "cell_type": "code",
   "execution_count": 15,
   "id": "24e0c6fc",
   "metadata": {},
   "outputs": [],
   "source": [
    "travel_df = travel_df[travel_df[\"budget_level\"] == budget]"
   ]
  },
  {
   "cell_type": "code",
   "execution_count": 16,
   "id": "98e24645",
   "metadata": {},
   "outputs": [
    {
     "data": {
      "text/html": [
       "<div>\n",
       "<style scoped>\n",
       "    .dataframe tbody tr th:only-of-type {\n",
       "        vertical-align: middle;\n",
       "    }\n",
       "\n",
       "    .dataframe tbody tr th {\n",
       "        vertical-align: top;\n",
       "    }\n",
       "\n",
       "    .dataframe thead th {\n",
       "        text-align: right;\n",
       "    }\n",
       "</style>\n",
       "<table border=\"1\" class=\"dataframe\">\n",
       "  <thead>\n",
       "    <tr style=\"text-align: right;\">\n",
       "      <th></th>\n",
       "      <th>id</th>\n",
       "      <th>city</th>\n",
       "      <th>country</th>\n",
       "      <th>region</th>\n",
       "      <th>short_description</th>\n",
       "      <th>latitude</th>\n",
       "      <th>longitude</th>\n",
       "      <th>ideal_durations</th>\n",
       "      <th>budget_level</th>\n",
       "      <th>culture</th>\n",
       "      <th>...</th>\n",
       "      <th>3.avg</th>\n",
       "      <th>4.avg</th>\n",
       "      <th>5.avg</th>\n",
       "      <th>6.avg</th>\n",
       "      <th>7.avg</th>\n",
       "      <th>8.avg</th>\n",
       "      <th>9.avg</th>\n",
       "      <th>10.avg</th>\n",
       "      <th>11.avg</th>\n",
       "      <th>12.avg</th>\n",
       "    </tr>\n",
       "  </thead>\n",
       "  <tbody>\n",
       "    <tr>\n",
       "      <th>2</th>\n",
       "      <td>73036cda-9134-46fc-a2c6-807782d59dfb</td>\n",
       "      <td>Whistler</td>\n",
       "      <td>Canada</td>\n",
       "      <td>north_america</td>\n",
       "      <td>Snow-capped peaks and lush forests create a se...</td>\n",
       "      <td>50.117190</td>\n",
       "      <td>-122.954302</td>\n",
       "      <td>short trip weekend one week</td>\n",
       "      <td>luxury</td>\n",
       "      <td>3</td>\n",
       "      <td>...</td>\n",
       "      <td>0.2</td>\n",
       "      <td>4.6</td>\n",
       "      <td>9.0</td>\n",
       "      <td>14.1</td>\n",
       "      <td>18.2</td>\n",
       "      <td>17.8</td>\n",
       "      <td>14.5</td>\n",
       "      <td>7.6</td>\n",
       "      <td>1.8</td>\n",
       "      <td>-1.8</td>\n",
       "    </tr>\n",
       "    <tr>\n",
       "      <th>20</th>\n",
       "      <td>0d1ac2c5-e3d5-40b5-ad56-01f3d67710ab</td>\n",
       "      <td>Trondheim</td>\n",
       "      <td>Norway</td>\n",
       "      <td>europe</td>\n",
       "      <td>Charming wooden houses, crisp Nordic air, and ...</td>\n",
       "      <td>63.430447</td>\n",
       "      <td>10.395212</td>\n",
       "      <td>short trip weekend one week</td>\n",
       "      <td>luxury</td>\n",
       "      <td>4</td>\n",
       "      <td>...</td>\n",
       "      <td>1.4</td>\n",
       "      <td>4.6</td>\n",
       "      <td>9.9</td>\n",
       "      <td>13.5</td>\n",
       "      <td>15.1</td>\n",
       "      <td>14.5</td>\n",
       "      <td>11.5</td>\n",
       "      <td>6.3</td>\n",
       "      <td>1.8</td>\n",
       "      <td>0.0</td>\n",
       "    </tr>\n",
       "    <tr>\n",
       "      <th>22</th>\n",
       "      <td>57239ab4-5376-4b81-a35e-fc8a27fb5812</td>\n",
       "      <td>Reykjavik</td>\n",
       "      <td>Iceland</td>\n",
       "      <td>europe</td>\n",
       "      <td>Colorful rooftops, crisp sea air, and the allu...</td>\n",
       "      <td>64.145981</td>\n",
       "      <td>-21.942237</td>\n",
       "      <td>short trip one week weekend</td>\n",
       "      <td>luxury</td>\n",
       "      <td>3</td>\n",
       "      <td>...</td>\n",
       "      <td>1.6</td>\n",
       "      <td>4.3</td>\n",
       "      <td>6.9</td>\n",
       "      <td>9.7</td>\n",
       "      <td>11.6</td>\n",
       "      <td>11.2</td>\n",
       "      <td>8.6</td>\n",
       "      <td>5.5</td>\n",
       "      <td>2.7</td>\n",
       "      <td>0.4</td>\n",
       "    </tr>\n",
       "    <tr>\n",
       "      <th>61</th>\n",
       "      <td>61a3b6e3-f03f-42e4-b10d-80a3d1aec106</td>\n",
       "      <td>Hamilton</td>\n",
       "      <td>Bermuda</td>\n",
       "      <td>north_america</td>\n",
       "      <td>Charming streets lined with pastel buildings a...</td>\n",
       "      <td>32.294268</td>\n",
       "      <td>-64.785317</td>\n",
       "      <td>short trip weekend</td>\n",
       "      <td>luxury</td>\n",
       "      <td>3</td>\n",
       "      <td>...</td>\n",
       "      <td>18.5</td>\n",
       "      <td>19.9</td>\n",
       "      <td>22.3</td>\n",
       "      <td>25.0</td>\n",
       "      <td>27.2</td>\n",
       "      <td>28.0</td>\n",
       "      <td>27.0</td>\n",
       "      <td>24.6</td>\n",
       "      <td>21.8</td>\n",
       "      <td>19.8</td>\n",
       "    </tr>\n",
       "    <tr>\n",
       "      <th>73</th>\n",
       "      <td>f139e95f-1d18-40b9-a7f0-f8d908c05e53</td>\n",
       "      <td>Bergen</td>\n",
       "      <td>Norway</td>\n",
       "      <td>europe</td>\n",
       "      <td>Charming waterfront views, colorful wooden hou...</td>\n",
       "      <td>60.394306</td>\n",
       "      <td>5.325919</td>\n",
       "      <td>weekend one week short trip</td>\n",
       "      <td>luxury</td>\n",
       "      <td>4</td>\n",
       "      <td>...</td>\n",
       "      <td>4.3</td>\n",
       "      <td>7.1</td>\n",
       "      <td>11.4</td>\n",
       "      <td>14.5</td>\n",
       "      <td>15.4</td>\n",
       "      <td>15.3</td>\n",
       "      <td>13.4</td>\n",
       "      <td>9.1</td>\n",
       "      <td>5.6</td>\n",
       "      <td>4.0</td>\n",
       "    </tr>\n",
       "  </tbody>\n",
       "</table>\n",
       "<p>5 rows × 30 columns</p>\n",
       "</div>"
      ],
      "text/plain": [
       "                                      id       city  country         region  \\\n",
       "2   73036cda-9134-46fc-a2c6-807782d59dfb   Whistler   Canada  north_america   \n",
       "20  0d1ac2c5-e3d5-40b5-ad56-01f3d67710ab  Trondheim   Norway         europe   \n",
       "22  57239ab4-5376-4b81-a35e-fc8a27fb5812  Reykjavik  Iceland         europe   \n",
       "61  61a3b6e3-f03f-42e4-b10d-80a3d1aec106   Hamilton  Bermuda  north_america   \n",
       "73  f139e95f-1d18-40b9-a7f0-f8d908c05e53     Bergen   Norway         europe   \n",
       "\n",
       "                                    short_description   latitude   longitude  \\\n",
       "2   Snow-capped peaks and lush forests create a se...  50.117190 -122.954302   \n",
       "20  Charming wooden houses, crisp Nordic air, and ...  63.430447   10.395212   \n",
       "22  Colorful rooftops, crisp sea air, and the allu...  64.145981  -21.942237   \n",
       "61  Charming streets lined with pastel buildings a...  32.294268  -64.785317   \n",
       "73  Charming waterfront views, colorful wooden hou...  60.394306    5.325919   \n",
       "\n",
       "                ideal_durations budget_level  culture  ...  3.avg  4.avg  \\\n",
       "2   short trip weekend one week       luxury        3  ...    0.2    4.6   \n",
       "20  short trip weekend one week       luxury        4  ...    1.4    4.6   \n",
       "22  short trip one week weekend       luxury        3  ...    1.6    4.3   \n",
       "61           short trip weekend       luxury        3  ...   18.5   19.9   \n",
       "73  weekend one week short trip       luxury        4  ...    4.3    7.1   \n",
       "\n",
       "    5.avg  6.avg  7.avg  8.avg  9.avg  10.avg  11.avg  12.avg  \n",
       "2     9.0   14.1   18.2   17.8   14.5     7.6     1.8    -1.8  \n",
       "20    9.9   13.5   15.1   14.5   11.5     6.3     1.8     0.0  \n",
       "22    6.9    9.7   11.6   11.2    8.6     5.5     2.7     0.4  \n",
       "61   22.3   25.0   27.2   28.0   27.0    24.6    21.8    19.8  \n",
       "73   11.4   14.5   15.4   15.3   13.4     9.1     5.6     4.0  \n",
       "\n",
       "[5 rows x 30 columns]"
      ]
     },
     "execution_count": 16,
     "metadata": {},
     "output_type": "execute_result"
    }
   ],
   "source": [
    "travel_df.head()"
   ]
  },
  {
   "cell_type": "markdown",
   "id": "0ce76878",
   "metadata": {},
   "source": [
    "## *Month filter*"
   ]
  },
  {
   "cell_type": "code",
   "execution_count": 17,
   "id": "95aea061",
   "metadata": {},
   "outputs": [
    {
     "name": "stdout",
     "output_type": "stream",
     "text": [
      "8\n"
     ]
    }
   ],
   "source": [
    "try:\n",
    "    month = int(input(\"In which month of the year do you want to go on your trip? Please enter a number between 1 and 12.\"))\n",
    "    if month in range(1,13):\n",
    "        print(month)\n",
    "    else:\n",
    "        while month not in range(1,13):\n",
    "            month = int(input(\"Please enter a number between 1 and 12.\"))\n",
    "        else:\n",
    "            print(month)\n",
    "except ValueError:\n",
    "    month = int(input(\"Please enter a valid number between 1 and 12.\"))\n",
    "    while month not in range(1,13):\n",
    "        month = int(input(\"Please enter a number between 1 and 12.\"))\n",
    "    else:\n",
    "        print(month)\n"
   ]
  },
  {
   "cell_type": "markdown",
   "id": "24984f8e",
   "metadata": {},
   "source": [
    "### **Reducing dataframe to contain only the specific month of the trip:**"
   ]
  },
  {
   "cell_type": "code",
   "execution_count": 18,
   "id": "097c0953",
   "metadata": {},
   "outputs": [],
   "source": [
    "def remove_months(df):\n",
    "    months = list(range(1,13))\n",
    "    no_month_trip = [x for x in months if x != month]\n",
    "    df = df.drop(columns=[str(x)+\".avg\" for x in no_month_trip])\n",
    "    return df"
   ]
  },
  {
   "cell_type": "code",
   "execution_count": 19,
   "id": "95ec7a32",
   "metadata": {},
   "outputs": [],
   "source": [
    "travel_df = remove_months(travel_df)"
   ]
  },
  {
   "cell_type": "code",
   "execution_count": 20,
   "id": "0a09f695",
   "metadata": {},
   "outputs": [
    {
     "data": {
      "text/html": [
       "<div>\n",
       "<style scoped>\n",
       "    .dataframe tbody tr th:only-of-type {\n",
       "        vertical-align: middle;\n",
       "    }\n",
       "\n",
       "    .dataframe tbody tr th {\n",
       "        vertical-align: top;\n",
       "    }\n",
       "\n",
       "    .dataframe thead th {\n",
       "        text-align: right;\n",
       "    }\n",
       "</style>\n",
       "<table border=\"1\" class=\"dataframe\">\n",
       "  <thead>\n",
       "    <tr style=\"text-align: right;\">\n",
       "      <th></th>\n",
       "      <th>id</th>\n",
       "      <th>city</th>\n",
       "      <th>country</th>\n",
       "      <th>region</th>\n",
       "      <th>short_description</th>\n",
       "      <th>latitude</th>\n",
       "      <th>longitude</th>\n",
       "      <th>ideal_durations</th>\n",
       "      <th>budget_level</th>\n",
       "      <th>culture</th>\n",
       "      <th>adventure</th>\n",
       "      <th>nature</th>\n",
       "      <th>beaches</th>\n",
       "      <th>nightlife</th>\n",
       "      <th>cuisine</th>\n",
       "      <th>wellness</th>\n",
       "      <th>urban</th>\n",
       "      <th>seclusion</th>\n",
       "      <th>8.avg</th>\n",
       "    </tr>\n",
       "  </thead>\n",
       "  <tbody>\n",
       "  </tbody>\n",
       "</table>\n",
       "</div>"
      ],
      "text/plain": [
       "Empty DataFrame\n",
       "Columns: [id, city, country, region, short_description, latitude, longitude, ideal_durations, budget_level, culture, adventure, nature, beaches, nightlife, cuisine, wellness, urban, seclusion, 8.avg]\n",
       "Index: []"
      ]
     },
     "execution_count": 20,
     "metadata": {},
     "output_type": "execute_result"
    }
   ],
   "source": [
    "travel_df.head(0)"
   ]
  },
  {
   "cell_type": "markdown",
   "id": "947055fc",
   "metadata": {},
   "source": [
    "### **Main interest input:**"
   ]
  },
  {
   "cell_type": "code",
   "execution_count": 21,
   "id": "e4910ba9",
   "metadata": {},
   "outputs": [],
   "source": [
    "interests = [\"urban\", \"culture\", \"adventure\", \"nature\", \"beaches\", \"nightlife\", \"cuisine\", \"wellness\", \"seclusion\"]\n",
    "interests_input = input(\"Select up to three interests (if more than one, comma separated) among: culture, adventure, nature, beaches, nightlife, cuisine, wellness, urban and seclusion.\").lower().split(\", \")"
   ]
  },
  {
   "cell_type": "code",
   "execution_count": 22,
   "id": "e1692313",
   "metadata": {},
   "outputs": [
    {
     "data": {
      "text/plain": [
       "['culture']"
      ]
     },
     "execution_count": 22,
     "metadata": {},
     "output_type": "execute_result"
    }
   ],
   "source": [
    "interests_input"
   ]
  },
  {
   "cell_type": "code",
   "execution_count": 23,
   "id": "805d6967",
   "metadata": {},
   "outputs": [],
   "source": [
    "travel_df = travel_df.sort_values(by = interests_input, ascending=False)"
   ]
  },
  {
   "cell_type": "code",
   "execution_count": 24,
   "id": "43573f86",
   "metadata": {},
   "outputs": [],
   "source": [
    "travel_df = pd.read_csv(file)"
   ]
  },
  {
   "cell_type": "code",
   "execution_count": 25,
   "id": "a748531c",
   "metadata": {},
   "outputs": [],
   "source": [
    "def wrangling(df):\n",
    "    df[\"avg_temp_monthly\"] = df[\"avg_temp_monthly\"].apply(json.loads)\n",
    "    temp_monthly = pd.json_normalize(df[\"avg_temp_monthly\"])\n",
    "    df = pd.concat([df.drop(columns=[\"avg_temp_monthly\"]), temp_monthly], axis=1)\n",
    "    \n",
    "    for n in range(1,13):\n",
    "        df.drop(columns=[(str(n)) + \".min\", (str(n)) + \".max\"], inplace=True)\n",
    "\n",
    "    df[\"ideal_durations\"] = df[\"ideal_durations\"].apply(ast.literal_eval)\n",
    "    df[\"ideal_durations\"] = df[\"ideal_durations\"].apply(lambda lst: ' '.join(item.strip() for item in lst))\n",
    "    df[\"ideal_durations\"] = [duration.lower() for duration in df[\"ideal_durations\"].values]\n",
    "\n",
    "    df[\"budget_level\"] = [budget.lower() for budget in df[\"budget_level\"].values]\n",
    "    df[\"budget_level\"] = df[\"budget_level\"].replace({\"budget\": \"economic\"})\n",
    "    \n",
    "    return df"
   ]
  },
  {
   "cell_type": "code",
   "execution_count": 26,
   "id": "61d5008a",
   "metadata": {},
   "outputs": [],
   "source": [
    "travel_df = wrangling(travel_df)"
   ]
  },
  {
   "cell_type": "code",
   "execution_count": 27,
   "id": "58a1bd0d",
   "metadata": {},
   "outputs": [],
   "source": [
    "def remove_months(df):\n",
    "    months = list(range(1,13))\n",
    "    no_month_trip = [x for x in months if x != month]\n",
    "    df = df.drop(columns=[str(x)+\".avg\" for x in no_month_trip])\n",
    "    return df"
   ]
  },
  {
   "cell_type": "code",
   "execution_count": 28,
   "id": "d480a9e5",
   "metadata": {},
   "outputs": [],
   "source": [
    "def filter_df(travel_df):\n",
    "    \"\"\"This function will filter the dataset containing the information of 560 cities around the world to provide the user with a ranking based on their preferences.\"\"\"\n",
    "\n",
    "    # Valid inputs definition\n",
    "    valid_durations = {\"weekend\", \"short trip\", \"one week\", \"long trip\"}\n",
    "    valid_budgets = {\"luxury\", \"mid-range\", \"economic\"}\n",
    "    valid_interests = [\"urban\", \"culture\", \"adventure\", \"nature\", \"beaches\", \"nightlife\", \"cuisine\", \"wellness\", \"seclusion\"]\n",
    "    \n",
    "    # Ideal duration input\n",
    "    ideal_duration = input(\"How long do you want your trip to be: weekend, short trip, one week, or long trip? \").lower()\n",
    "    while ideal_duration not in valid_durations:\n",
    "        ideal_duration = input(\"Please enter one of the following values: weekend, short trip, one week, or long trip. \").lower()\n",
    "\n",
    "    # Budget level input\n",
    "    budget_level = input(\"What is your budget for your trip: luxury, mid-range, or economic? \").lower()\n",
    "    while budget_level not in valid_budgets:\n",
    "        budget_level = input(\"Please enter one of the following values: luxury, mid-range, or economic. \").lower()\n",
    "\n",
    "    # Month of the trip input\n",
    "    month = None\n",
    "    while month not in range(1, 13):\n",
    "        try:\n",
    "            month = int(input(\"In which month of the year do you want to go on your trip? Please enter a number between 1 and 12. \"))\n",
    "        except ValueError:\n",
    "            print(\"Please enter a valid number between 1 and 12.\")\n",
    "\n",
    "    # User main interest input\n",
    "    while True:\n",
    "        interests_input = input(\"Select up to three interests (if more than one, comma separated) among: culture, adventure, nature, beaches, nightlife, cuisine, wellness, urban, and seclusion: \").lower().split(\", \")\n",
    "        if all(interest in valid_interests for interest in interests_input) and len(interests_input) <= 3:\n",
    "            break\n",
    "        else:\n",
    "            print(\"Invalid input. Please make sure to select up to three interests from the given options.\")\n",
    "\n",
    "    # Creating the filtered DataFrame\n",
    "    try:\n",
    "        filtered_df = travel_df[(travel_df[\"ideal_durations\"].str.contains(ideal_duration, case=False)) & (travel_df[\"budget_level\"] == budget_level)]\n",
    "\n",
    "        # Filter out months if function exists\n",
    "        if 'remove_months' in globals():\n",
    "            filtered_df = remove_months(filtered_df)\n",
    "\n",
    "        # Sort by interest columns; make sure column names exist in the DataFrame\n",
    "        pd.set_option('display.max_colwidth', None)\n",
    "        interest_columns = [col for col in interests_input if col in travel_df.columns]\n",
    "        filtered_df = filtered_df.sort_values(by=interest_columns, ascending=False)\n",
    "        \n",
    "        # Drop columns\n",
    "        filtered_df = filtered_df.drop(columns=[\"id\", \"region\", \"latitude\", \"longitude\", \"ideal_durations\", \"budget_level\", \"culture\", \"adventure\",\t\"nature\", \"beaches\", \"nightlife\", \"cuisine\", \"wellness\", \"urban\", \"seclusion\"], axis=1)\n",
    "        \n",
    "        # Show only top 5 cities\n",
    "        filtered_df = filtered_df[:5]\n",
    "\n",
    "        # Renaming average temperature month\n",
    "        column_to_rename = f\"{month}.avg\"\n",
    "    \n",
    "        if column_to_rename not in filtered_df.columns:\n",
    "            print(f\"Column '{column_to_rename}' does not exist.\")\n",
    "        else:\n",
    "            new_column_name = \"avg_temperature(ºC)\"\n",
    "            filtered_df = filtered_df.rename(columns={column_to_rename: new_column_name})\n",
    "\n",
    "        message = \"Here are the top 5 cities where you could go according to your preferences: \"\n",
    "\n",
    "    except Exception as error:\n",
    "        print(f\"Error in filtering: {error}\")\n",
    "\n",
    "    return message, filtered_df"
   ]
  },
  {
   "cell_type": "code",
   "execution_count": 29,
   "id": "b5acd621",
   "metadata": {},
   "outputs": [],
   "source": [
    "# Next steps for the 'app':\n",
    "\n",
    "# >> OK 1. function to ask for the user input regarding user's city choice, where he'll be travelling from and on which day of the month\n",
    "# >> OK 2. function to run Google Flights API and get flights -- major challenge: how to make the link between city name and airport code? --> OK\n",
    "# 3. improve function API to handle when flights are not available from the dep city to the arrival city\n",
    "# 4. function to get hotels if enough time"
   ]
  },
  {
   "cell_type": "code",
   "execution_count": 30,
   "id": "4a7b3e56",
   "metadata": {},
   "outputs": [],
   "source": [
    "def get_airport_code(city_name, df):\n",
    "    # Locate the city in the DataFrame\n",
    "    result = df.loc[df['city'] == city_name, 'IATA']\n",
    "    return result.iloc[0] if not result.empty else None"
   ]
  },
  {
   "cell_type": "code",
   "execution_count": 31,
   "id": "6f6c211f",
   "metadata": {},
   "outputs": [],
   "source": [
    "df_airports = pd.read_csv(\"/Users/laurasuemitsu/Desktop/DATA_FT_May_2025/Final project/Notebooks/airports_codes.csv\")"
   ]
  },
  {
   "cell_type": "code",
   "execution_count": 32,
   "id": "8c8ad809",
   "metadata": {},
   "outputs": [],
   "source": [
    "def travel_details():\n",
    "    while True:\n",
    "        departure_city = input(\"Enter the departure city: \")\n",
    "        departure_code = get_airport_code(departure_city, df_airports)\n",
    "        if departure_code:\n",
    "            break\n",
    "        else:\n",
    "            departure_city = print(\"No airport found in our database. Please enter another city. \")\n",
    "\n",
    "    while True:\n",
    "        arrival_city = input(\"Enter the arrival city: \")\n",
    "        arrival_code = get_airport_code(arrival_city, df_airports)\n",
    "        if arrival_code:\n",
    "            break\n",
    "        else:\n",
    "            arrival_city = print(\"No airport found in our database. Please enter another city. \")\n",
    "\n",
    "    date = input(\"Enter the departure date (YYYY-MM-DD): \")\n",
    "\n",
    "    return departure_code, arrival_code, date\n"
   ]
  },
  {
   "cell_type": "code",
   "execution_count": 33,
   "id": "ec179a6c",
   "metadata": {},
   "outputs": [
    {
     "name": "stdout",
     "output_type": "stream",
     "text": [
      "Here are the top 5 cities where you could go according to your preferences: \n"
     ]
    },
    {
     "data": {
      "text/html": [
       "<div>\n",
       "<style scoped>\n",
       "    .dataframe tbody tr th:only-of-type {\n",
       "        vertical-align: middle;\n",
       "    }\n",
       "\n",
       "    .dataframe tbody tr th {\n",
       "        vertical-align: top;\n",
       "    }\n",
       "\n",
       "    .dataframe thead th {\n",
       "        text-align: right;\n",
       "    }\n",
       "</style>\n",
       "<table border=\"1\" class=\"dataframe\">\n",
       "  <thead>\n",
       "    <tr style=\"text-align: right;\">\n",
       "      <th></th>\n",
       "      <th>city</th>\n",
       "      <th>country</th>\n",
       "      <th>short_description</th>\n",
       "      <th>avg_temperature(ºC)</th>\n",
       "    </tr>\n",
       "  </thead>\n",
       "  <tbody>\n",
       "    <tr>\n",
       "      <th>23</th>\n",
       "      <td>Seoul</td>\n",
       "      <td>South Korea</td>\n",
       "      <td>A dynamic blend of futuristic skyscrapers and ancient palaces, bustling markets, and tranquil parks, creating an energetic yet harmonious urban experience.</td>\n",
       "      <td>27.0</td>\n",
       "    </tr>\n",
       "    <tr>\n",
       "      <th>40</th>\n",
       "      <td>Melbourne</td>\n",
       "      <td>Australia</td>\n",
       "      <td>A vibrant mix of street art, diverse cuisine, and lively laneways create an atmosphere that's both exciting and warmly inviting.</td>\n",
       "      <td>10.6</td>\n",
       "    </tr>\n",
       "    <tr>\n",
       "      <th>57</th>\n",
       "      <td>Barcelona</td>\n",
       "      <td>Spain</td>\n",
       "      <td>Vibrant streets filled with Gaudí's whimsical architecture, lively tapas bars, and the warm Mediterranean breeze create an inviting and dynamic atmosphere.</td>\n",
       "      <td>25.7</td>\n",
       "    </tr>\n",
       "    <tr>\n",
       "      <th>63</th>\n",
       "      <td>Shanghai</td>\n",
       "      <td>China</td>\n",
       "      <td>Vibrant streets pulse with energy, blending futuristic skyscrapers with ancient temples, while enticing aromas from street food stalls fill the air.</td>\n",
       "      <td>30.0</td>\n",
       "    </tr>\n",
       "    <tr>\n",
       "      <th>108</th>\n",
       "      <td>Rome</td>\n",
       "      <td>Italy</td>\n",
       "      <td>Ancient ruins stand proudly amidst bustling piazzas, where the aroma of fresh pasta and the echoes of street musicians fill the air.</td>\n",
       "      <td>26.3</td>\n",
       "    </tr>\n",
       "  </tbody>\n",
       "</table>\n",
       "</div>"
      ],
      "text/plain": [
       "          city      country  \\\n",
       "23       Seoul  South Korea   \n",
       "40   Melbourne    Australia   \n",
       "57   Barcelona        Spain   \n",
       "63    Shanghai        China   \n",
       "108       Rome        Italy   \n",
       "\n",
       "                                                                                                                                               short_description  \\\n",
       "23   A dynamic blend of futuristic skyscrapers and ancient palaces, bustling markets, and tranquil parks, creating an energetic yet harmonious urban experience.   \n",
       "40                              A vibrant mix of street art, diverse cuisine, and lively laneways create an atmosphere that's both exciting and warmly inviting.   \n",
       "57   Vibrant streets filled with Gaudí's whimsical architecture, lively tapas bars, and the warm Mediterranean breeze create an inviting and dynamic atmosphere.   \n",
       "63          Vibrant streets pulse with energy, blending futuristic skyscrapers with ancient temples, while enticing aromas from street food stalls fill the air.   \n",
       "108                         Ancient ruins stand proudly amidst bustling piazzas, where the aroma of fresh pasta and the echoes of street musicians fill the air.   \n",
       "\n",
       "     avg_temperature(ºC)  \n",
       "23                  27.0  \n",
       "40                  10.6  \n",
       "57                  25.7  \n",
       "63                  30.0  \n",
       "108                 26.3  "
      ]
     },
     "metadata": {},
     "output_type": "display_data"
    },
    {
     "data": {
      "text/plain": [
       "('CDG', 'BCN', '2025-08-20')"
      ]
     },
     "execution_count": 33,
     "metadata": {},
     "output_type": "execute_result"
    }
   ],
   "source": [
    "message, cities_df = filter_df(travel_df)\n",
    "print(message)\n",
    "display(cities_df)\n",
    "travel_details()"
   ]
  },
  {
   "cell_type": "code",
   "execution_count": null,
   "id": "c288db89",
   "metadata": {},
   "outputs": [],
   "source": []
  }
 ],
 "metadata": {
  "kernelspec": {
   "display_name": "base",
   "language": "python",
   "name": "python3"
  },
  "language_info": {
   "codemirror_mode": {
    "name": "ipython",
    "version": 3
   },
   "file_extension": ".py",
   "mimetype": "text/x-python",
   "name": "python",
   "nbconvert_exporter": "python",
   "pygments_lexer": "ipython3",
   "version": "3.12.7"
  }
 },
 "nbformat": 4,
 "nbformat_minor": 5
}
