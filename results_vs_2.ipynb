{
 "cells": [
  {
   "cell_type": "code",
   "execution_count": 35,
   "id": "b5beac95",
   "metadata": {},
   "outputs": [],
   "source": [
    "import pandas as pd\n",
    "import json\n",
    "import ast"
   ]
  },
  {
   "cell_type": "code",
   "execution_count": 36,
   "id": "99a4b8cc",
   "metadata": {},
   "outputs": [],
   "source": [
    "file = \"/Users/laurasuemitsu/Desktop/DATA_FT_May_2025/Final project/Tourism datasets Kaggle/Worldwide_Travel_Cities_Dataset_(Ratings_Climate).csv\""
   ]
  },
  {
   "cell_type": "code",
   "execution_count": 37,
   "id": "e9b39d17",
   "metadata": {},
   "outputs": [],
   "source": [
    "travel_df = pd.read_csv(file)"
   ]
  },
  {
   "cell_type": "markdown",
   "id": "115fdcb3",
   "metadata": {},
   "source": [
    "## *Wrangling duration:*"
   ]
  },
  {
   "cell_type": "code",
   "execution_count": 38,
   "id": "452deec5",
   "metadata": {},
   "outputs": [],
   "source": [
    "def wrangling_duration(df):\n",
    "    df[\"avg_temp_monthly\"] = df[\"avg_temp_monthly\"].apply(json.loads)\n",
    "    temp_monthly = pd.json_normalize(df[\"avg_temp_monthly\"])\n",
    "    df = pd.concat([df.drop(columns=[\"avg_temp_monthly\"]), temp_monthly], axis=1)\n",
    "    \n",
    "    for n in range(1,13):\n",
    "        df.drop(columns=[(str(n)) + \".min\", (str(n)) + \".max\"], inplace=True)\n",
    "\n",
    "    df[\"ideal_durations\"] = df[\"ideal_durations\"].apply(ast.literal_eval)\n",
    "\n",
    "    df[\"ideal_durations\"] = df[\"ideal_durations\"].apply(lambda lst: ' '.join(item.strip() for item in lst))\n",
    "\n",
    "    df[\"ideal_durations\"] = [duration.lower() for duration in df[\"ideal_durations\"].values]\n",
    "    return df"
   ]
  },
  {
   "cell_type": "code",
   "execution_count": 39,
   "id": "fcfa9e6c",
   "metadata": {},
   "outputs": [],
   "source": [
    "travel_df = wrangling_duration(travel_df)"
   ]
  },
  {
   "cell_type": "markdown",
   "id": "3c1880cc",
   "metadata": {},
   "source": [
    "## *Wrangling budget*"
   ]
  },
  {
   "cell_type": "code",
   "execution_count": 40,
   "id": "f3a6dbc7",
   "metadata": {},
   "outputs": [],
   "source": [
    "def wrangling_budget(df):\n",
    "    df[\"budget_level\"] = [budget.lower() for budget in df[\"budget_level\"].values]\n",
    "    df[\"budget_level\"] = df[\"budget_level\"].replace({\"budget\": \"economic\"})\n",
    "    return df"
   ]
  },
  {
   "cell_type": "code",
   "execution_count": 41,
   "id": "4ab2b0c3",
   "metadata": {},
   "outputs": [],
   "source": [
    "travel_df = wrangling_budget(travel_df)"
   ]
  },
  {
   "cell_type": "markdown",
   "id": "24984f8e",
   "metadata": {},
   "source": [
    "## *Removing months from the final df:*"
   ]
  },
  {
   "cell_type": "code",
   "execution_count": 42,
   "id": "a47c104e",
   "metadata": {},
   "outputs": [
    {
     "name": "stdout",
     "output_type": "stream",
     "text": [
      "8\n"
     ]
    }
   ],
   "source": [
    "try:\n",
    "    month = int(input(\"In which month of the year do you want to go on your trip? Please enter a number between 1 and 12.\"))\n",
    "    if month in range(1,13):\n",
    "        print(month)\n",
    "    else:\n",
    "        while month not in range(1,13):\n",
    "            month = int(input(\"Please enter a number between 1 and 12.\"))\n",
    "        else:\n",
    "            print(month)\n",
    "except ValueError:\n",
    "    month = int(input(\"Please enter a valid number between 1 and 12.\"))\n",
    "    while month not in range(1,13):\n",
    "        month = int(input(\"Please enter a number between 1 and 12.\"))\n",
    "    else:\n",
    "        print(month)"
   ]
  },
  {
   "cell_type": "code",
   "execution_count": 43,
   "id": "097c0953",
   "metadata": {},
   "outputs": [],
   "source": [
    "def remove_months(df):\n",
    "    months = list(range(1,13))\n",
    "    no_month_trip = [x for x in months if x != month]\n",
    "    df = df.drop(columns=[str(x)+\".avg\" for x in no_month_trip])\n",
    "    return df"
   ]
  },
  {
   "cell_type": "code",
   "execution_count": 44,
   "id": "95ec7a32",
   "metadata": {},
   "outputs": [],
   "source": [
    "travel_df = remove_months(travel_df)"
   ]
  },
  {
   "cell_type": "markdown",
   "id": "36db02fe",
   "metadata": {},
   "source": [
    "## *Running the functions:*"
   ]
  },
  {
   "cell_type": "code",
   "execution_count": 45,
   "id": "43573f86",
   "metadata": {},
   "outputs": [],
   "source": [
    "travel_df = pd.read_csv(file)"
   ]
  },
  {
   "cell_type": "code",
   "execution_count": 46,
   "id": "d41b034e",
   "metadata": {},
   "outputs": [],
   "source": [
    "df_airports = pd.read_csv(\"/Users/laurasuemitsu/Desktop/DATA_FT_May_2025/Final project/Notebooks/airports_codes.csv\")"
   ]
  },
  {
   "cell_type": "code",
   "execution_count": 47,
   "id": "a748531c",
   "metadata": {},
   "outputs": [],
   "source": [
    "def wrangling(df):\n",
    "    df[\"avg_temp_monthly\"] = df[\"avg_temp_monthly\"].apply(json.loads)\n",
    "    temp_monthly = pd.json_normalize(df[\"avg_temp_monthly\"])\n",
    "    df = pd.concat([df.drop(columns=[\"avg_temp_monthly\"]), temp_monthly], axis=1)\n",
    "    \n",
    "    for n in range(1,13):\n",
    "        df.drop(columns=[(str(n)) + \".min\", (str(n)) + \".max\"], inplace=True)\n",
    "\n",
    "    df[\"ideal_durations\"] = df[\"ideal_durations\"].apply(ast.literal_eval)\n",
    "    df[\"ideal_durations\"] = df[\"ideal_durations\"].apply(lambda lst: ' '.join(item.strip() for item in lst))\n",
    "    df[\"ideal_durations\"] = [duration.lower() for duration in df[\"ideal_durations\"].values]\n",
    "\n",
    "    df[\"budget_level\"] = [budget.lower() for budget in df[\"budget_level\"].values]\n",
    "    df[\"budget_level\"] = df[\"budget_level\"].replace({\"budget\": \"economic\"})\n",
    "    \n",
    "    return df"
   ]
  },
  {
   "cell_type": "code",
   "execution_count": 48,
   "id": "61d5008a",
   "metadata": {},
   "outputs": [],
   "source": [
    "travel_df = wrangling(travel_df)"
   ]
  },
  {
   "cell_type": "code",
   "execution_count": 49,
   "id": "58a1bd0d",
   "metadata": {},
   "outputs": [],
   "source": [
    "def remove_months(df):\n",
    "    months = list(range(1,13))\n",
    "    no_month_trip = [x for x in months if x != month]\n",
    "    df = df.drop(columns=[str(x)+\".avg\" for x in no_month_trip])\n",
    "    return df"
   ]
  },
  {
   "cell_type": "code",
   "execution_count": 50,
   "id": "d480a9e5",
   "metadata": {},
   "outputs": [],
   "source": [
    "def filter_df(travel_df):\n",
    "    \"\"\"This function will filter the dataset containing the information of 560 cities around the world to provide the user with a ranking based on their preferences.\"\"\"\n",
    "\n",
    "    # Valid inputs definition\n",
    "    valid_durations = {\"weekend\", \"short trip\", \"one week\", \"long trip\"}\n",
    "    valid_budgets = {\"luxury\", \"mid-range\", \"economic\"}\n",
    "    valid_interests = [\"urban\", \"culture\", \"adventure\", \"nature\", \"beaches\", \"nightlife\", \"cuisine\", \"wellness\", \"seclusion\"]\n",
    "    \n",
    "    # Ideal duration input\n",
    "    ideal_duration = input(\"How long do you want your trip to be: weekend, short trip, one week, or long trip? \").lower()\n",
    "    while ideal_duration not in valid_durations:\n",
    "        ideal_duration = input(\"Please enter one of the following values: weekend, short trip, one week, or long trip. \").lower()\n",
    "\n",
    "    # Budget level input\n",
    "    budget_level = input(\"What is your budget for your trip: luxury, mid-range, or economic? \").lower()\n",
    "    while budget_level not in valid_budgets:\n",
    "        budget_level = input(\"Please enter one of the following values: luxury, mid-range, or economic. \").lower()\n",
    "\n",
    "    # Month of the trip input\n",
    "    month = None\n",
    "    while month not in range(1, 13):\n",
    "        try:\n",
    "            month = int(input(\"In which month of the year do you want to go on your trip? Please enter a number between 1 and 12. \"))\n",
    "        except ValueError:\n",
    "            print(\"Please enter a valid number between 1 and 12.\")\n",
    "\n",
    "    # User main interest input\n",
    "    while True:\n",
    "        interests_input = input(\"Select up to three interests (if more than one, comma separated) among: culture, adventure, nature, beaches, nightlife, cuisine, wellness, urban, and seclusion: \").lower().split(\", \")\n",
    "        if all(interest in valid_interests for interest in interests_input) and len(interests_input) <= 3:\n",
    "            break\n",
    "        else:\n",
    "            print(\"Invalid input. Please make sure to select up to three interests from the given options.\")\n",
    "\n",
    "    # Creating the filtered DataFrame\n",
    "    try:\n",
    "        filtered_df = travel_df[(travel_df[\"ideal_durations\"].str.contains(ideal_duration, case=False)) & (travel_df[\"budget_level\"] == budget_level)]\n",
    "\n",
    "        # Filter out months if function exists\n",
    "        if 'remove_months' in globals():\n",
    "            filtered_df = remove_months(filtered_df)\n",
    "\n",
    "        # Sort by interest columns; make sure column names exist in the DataFrame\n",
    "        pd.set_option('display.max_colwidth', None)\n",
    "        interest_columns = [col for col in interests_input if col in travel_df.columns]\n",
    "        filtered_df = filtered_df.sort_values(by=interest_columns, ascending=False)\n",
    "        \n",
    "        # Drop columns\n",
    "        filtered_df = filtered_df.drop(columns=[\"id\", \"region\", \"latitude\", \"longitude\", \"ideal_durations\", \"budget_level\", \"culture\", \"adventure\",\t\"nature\", \"beaches\", \"nightlife\", \"cuisine\", \"wellness\", \"urban\", \"seclusion\"], axis=1)\n",
    "        \n",
    "        # Show only top 5 cities\n",
    "        filtered_df = filtered_df[:5]\n",
    "\n",
    "        # Renaming average temperature month\n",
    "        column_to_rename = f\"{month}.avg\"\n",
    "    \n",
    "        if column_to_rename not in filtered_df.columns:\n",
    "            print(f\"Column '{column_to_rename}' does not exist.\")\n",
    "        else:\n",
    "            new_column_name = \"avg_temperature(ºC)\"\n",
    "            filtered_df = filtered_df.rename(columns={column_to_rename: new_column_name})\n",
    "\n",
    "        message = \"Here are the top 5 cities where you could go according to your preferences: \"\n",
    "\n",
    "    except Exception as error:\n",
    "        print(f\"Error in filtering: {error}\")\n",
    "\n",
    "    return message, filtered_df"
   ]
  },
  {
   "cell_type": "code",
   "execution_count": 51,
   "id": "b5acd621",
   "metadata": {},
   "outputs": [],
   "source": [
    "# Next steps for the 'app':\n",
    "\n",
    "# >> OK 1. function to ask for the user input regarding user's city choice, where he'll be travelling from and on which day of the month\n",
    "# >> OK 2. function to run Google Flights API and get flights -- major challenge: how to make the link between city name and airport code? --> OK\n",
    "# 3. improve function API to handle when flights are not available from the dep city to the arrival city\n",
    "# 4. function to get hotels if enough time"
   ]
  },
  {
   "cell_type": "code",
   "execution_count": 52,
   "id": "4a7b3e56",
   "metadata": {},
   "outputs": [],
   "source": [
    "def get_airport_code(city_name, df):\n",
    "    # Locate the city in the DataFrame\n",
    "    result = df.loc[df['city'] == city_name, 'IATA']\n",
    "    return result.iloc[0] if not result.empty else None"
   ]
  },
  {
   "cell_type": "code",
   "execution_count": 53,
   "id": "6f6c211f",
   "metadata": {},
   "outputs": [],
   "source": [
    "df_airports = pd.read_csv(\"/Users/laurasuemitsu/Desktop/DATA_FT_May_2025/Final project/Notebooks/airports_codes.csv\")"
   ]
  },
  {
   "cell_type": "code",
   "execution_count": 54,
   "id": "8c8ad809",
   "metadata": {},
   "outputs": [],
   "source": [
    "def departuring_details():\n",
    "    while True:\n",
    "        departure_city = input(\"Enter the departure city: \")\n",
    "        departure_code = get_airport_code(departure_city, df_airports)\n",
    "        if departure_code:\n",
    "            break\n",
    "        else:\n",
    "            departure_city = print(\"No airport found in our database. Please enter another city. \")\n",
    "\n",
    "    while True:\n",
    "        arrival_city = input(\"Enter the arrival city: \")\n",
    "        arrival_code = get_airport_code(arrival_city, df_airports)\n",
    "        if arrival_code:\n",
    "            break\n",
    "        else:\n",
    "            arrival_city = print(\"No airport found in our database. Please enter another city. \")\n",
    "\n",
    "    date_input = input(\"Enter the departure date (YYYY-MM-DD): \")\n",
    "\n",
    "    return departure_code, arrival_code, date_input\n"
   ]
  },
  {
   "cell_type": "code",
   "execution_count": 55,
   "id": "ec179a6c",
   "metadata": {},
   "outputs": [
    {
     "name": "stdout",
     "output_type": "stream",
     "text": [
      "Here are the top 5 cities where you could go according to your preferences: \n"
     ]
    },
    {
     "data": {
      "text/html": [
       "<div>\n",
       "<style scoped>\n",
       "    .dataframe tbody tr th:only-of-type {\n",
       "        vertical-align: middle;\n",
       "    }\n",
       "\n",
       "    .dataframe tbody tr th {\n",
       "        vertical-align: top;\n",
       "    }\n",
       "\n",
       "    .dataframe thead th {\n",
       "        text-align: right;\n",
       "    }\n",
       "</style>\n",
       "<table border=\"1\" class=\"dataframe\">\n",
       "  <thead>\n",
       "    <tr style=\"text-align: right;\">\n",
       "      <th></th>\n",
       "      <th>city</th>\n",
       "      <th>country</th>\n",
       "      <th>short_description</th>\n",
       "      <th>avg_temperature(ºC)</th>\n",
       "    </tr>\n",
       "  </thead>\n",
       "  <tbody>\n",
       "    <tr>\n",
       "      <th>153</th>\n",
       "      <td>Catania</td>\n",
       "      <td>Italy</td>\n",
       "      <td>Sun-soaked streets filled with the aroma of fresh seafood, lively markets, and the dramatic backdrop of a smoking volcano create a unique atmosphere.</td>\n",
       "      <td>27.1</td>\n",
       "    </tr>\n",
       "    <tr>\n",
       "      <th>110</th>\n",
       "      <td>Taipei</td>\n",
       "      <td>Taiwan</td>\n",
       "      <td>Bustling night markets filled with tantalizing aromas, serene temples, and lush green hills create a vibrant and welcoming atmosphere.</td>\n",
       "      <td>30.2</td>\n",
       "    </tr>\n",
       "    <tr>\n",
       "      <th>44</th>\n",
       "      <td>Oaxaca City</td>\n",
       "      <td>Mexico</td>\n",
       "      <td>Colorful streets filled with vibrant markets and the aroma of rich mole sauces create a warm and inviting cultural tapestry.</td>\n",
       "      <td>21.4</td>\n",
       "    </tr>\n",
       "    <tr>\n",
       "      <th>45</th>\n",
       "      <td>San Sebastián</td>\n",
       "      <td>Spain</td>\n",
       "      <td>Golden beaches meet vibrant pintxo bars and lush green hills, creating a lively yet laid-back atmosphere perfect for unwinding and exploring.</td>\n",
       "      <td>19.9</td>\n",
       "    </tr>\n",
       "    <tr>\n",
       "      <th>312</th>\n",
       "      <td>Puglia</td>\n",
       "      <td>Italy</td>\n",
       "      <td>Sun-drenched coastlines, charming whitewashed villages, and the aroma of olive groves create a serene and inviting atmosphere.</td>\n",
       "      <td>26.4</td>\n",
       "    </tr>\n",
       "  </tbody>\n",
       "</table>\n",
       "</div>"
      ],
      "text/plain": [
       "              city country  \\\n",
       "153        Catania   Italy   \n",
       "110         Taipei  Taiwan   \n",
       "44     Oaxaca City  Mexico   \n",
       "45   San Sebastián   Spain   \n",
       "312         Puglia   Italy   \n",
       "\n",
       "                                                                                                                                         short_description  \\\n",
       "153  Sun-soaked streets filled with the aroma of fresh seafood, lively markets, and the dramatic backdrop of a smoking volcano create a unique atmosphere.   \n",
       "110                 Bustling night markets filled with tantalizing aromas, serene temples, and lush green hills create a vibrant and welcoming atmosphere.   \n",
       "44                            Colorful streets filled with vibrant markets and the aroma of rich mole sauces create a warm and inviting cultural tapestry.   \n",
       "45           Golden beaches meet vibrant pintxo bars and lush green hills, creating a lively yet laid-back atmosphere perfect for unwinding and exploring.   \n",
       "312                         Sun-drenched coastlines, charming whitewashed villages, and the aroma of olive groves create a serene and inviting atmosphere.   \n",
       "\n",
       "     avg_temperature(ºC)  \n",
       "153                 27.1  \n",
       "110                 30.2  \n",
       "44                  21.4  \n",
       "45                  19.9  \n",
       "312                 26.4  "
      ]
     },
     "metadata": {},
     "output_type": "display_data"
    },
    {
     "name": "stdout",
     "output_type": "stream",
     "text": [
      "TNT  -  CDG  -  2025-07-20\n"
     ]
    }
   ],
   "source": [
    "message, cities_df = filter_df(travel_df)\n",
    "print(message)\n",
    "display(cities_df)\n",
    "departure_code, arrival_code, date_input = departuring_details()\n",
    "print(departure_code, \" - \", arrival_code, \" - \", date_input)"
   ]
  },
  {
   "cell_type": "markdown",
   "id": "3dce68d0",
   "metadata": {},
   "source": [
    "## *Implementing API*"
   ]
  },
  {
   "cell_type": "code",
   "execution_count": 56,
   "id": "c288db89",
   "metadata": {},
   "outputs": [],
   "source": [
    "import requests\n",
    "import json"
   ]
  },
  {
   "cell_type": "code",
   "execution_count": 57,
   "id": "1e732e1e",
   "metadata": {},
   "outputs": [],
   "source": [
    "def run_API (departure_code, arrival_code, date_input):\n",
    "    url = \"https://google-flights2.p.rapidapi.com/api/v1/searchFlights\"\n",
    "    headers = {\"X-RapidAPI-Key\": \"ba7cdcaca5mshe733bf910269aafp1b245cjsnef6eeb88a0b5\",\n",
    "               \"X-RapidAPI-Host\": \"google-flights2.p.rapidapi.com\"\n",
    "    }\n",
    "\n",
    "    querystring = {\"departure_id\": departure_code,\n",
    "    \"arrival_id\": arrival_code,\n",
    "    \"outbound_date\": date_input,\n",
    "    }\n",
    "\n",
    "    response = requests.get(url, headers=headers, params=querystring)\n",
    "\n",
    "    try:\n",
    "        response = requests.get(url, headers=headers, params=querystring)\n",
    "        response.raise_for_status()  # Raises an HTTPError for bad responses\n",
    "\n",
    "        data = response.json()\n",
    "\n",
    "        # Optionally process or return the data\n",
    "        return data\n",
    "\n",
    "    except requests.exceptions.HTTPError as http_err:\n",
    "        print(f\"HTTP error occurred: {http_err}\")\n",
    "    except Exception as err:\n",
    "        print(f\"An error occurred: {err}\")\n",
    "\n",
    "    # Return None if there is an error\n",
    "    return None"
   ]
  },
  {
   "cell_type": "code",
   "execution_count": 58,
   "id": "2efdf74a",
   "metadata": {},
   "outputs": [],
   "source": [
    "def check_airport(departure_code, arrival_code, date_input):\n",
    "    if departure_code and arrival_code:\n",
    "        result = run_API(departure_code, arrival_code, date_input)\n",
    "        return result\n",
    "    else:\n",
    "        print(\"No airport found in our database. Please restart the app.\")"
   ]
  },
  {
   "cell_type": "code",
   "execution_count": 59,
   "id": "319b8ac6",
   "metadata": {},
   "outputs": [],
   "source": [
    "def normalize(row):\n",
    "    flight_info = pd.json_normalize(row)\n",
    "    return flight_info"
   ]
  },
  {
   "cell_type": "code",
   "execution_count": 60,
   "id": "1dbdcf5f",
   "metadata": {},
   "outputs": [],
   "source": [
    "def get_df(API_info):\n",
    "    df_0 = pd.json_normalize(API_info)\n",
    "    if len(df_0['data.itineraries.topFlights'][0]) < 1:\n",
    "        print(\"There are no flights available for these cities and date.\")\n",
    "    else:\n",
    "        df_0 = pd.json_normalize(df_0['data.itineraries.topFlights'][0], sep='_')\n",
    "        df_1 = normalize(df_0[\"flights\"])\n",
    "        df_2 = normalize(df_1[0])\n",
    "        df_3 = pd.concat([df_0, df_2], axis=1)\n",
    "        df_4 = df_3.drop(columns=[\"flights\", \"airline_logo\", \"duration_raw\", \"booking_token\", \"extensions\", \"departure_airport.time\", \"arrival_airport.time\", \"self_transfer\", \"layovers\", \"delay_values\", \"delay_text\", \"duration.raw\", \"duration.text\", \"carbon_emissions_difference_percent\", \"carbon_emissions_CO2e\", \"carbon_emissions_typical_for_this_route\", \"carbon_emissions_higher\", \"carbon_emissions_difference_percent\", \"carbon_emissions_CO2e\", \"carbon_emissions_typical_for_this_route\", \"carbon_emissions_higher\"])\n",
    "        return df_4"
   ]
  },
  {
   "cell_type": "code",
   "execution_count": 61,
   "id": "c2639c5f",
   "metadata": {},
   "outputs": [],
   "source": [
    "def choose_flight():\n",
    "    flight = input(\"Which flight would you like to choose? Please enter its index (number on the first column of the table): \")\n",
    "    while flight.isnumeric == True:\n",
    "        return flight\n",
    "    else:\n",
    "        flight = input(\"Please, enter the number corresponding to your chosen flight: \")\n",
    "    return flight"
   ]
  },
  {
   "cell_type": "code",
   "execution_count": 66,
   "id": "5129bccd",
   "metadata": {},
   "outputs": [
    {
     "name": "stdout",
     "output_type": "stream",
     "text": [
      "HTTP error occurred: 429 Client Error: Too Many Requests for url: https://google-flights2.p.rapidapi.com/api/v1/searchFlights?departure_id=TLS&arrival_id=OPO&outbound_date=2025-07-20\n"
     ]
    },
    {
     "ename": "NotImplementedError",
     "evalue": "",
     "output_type": "error",
     "traceback": [
      "\u001b[0;31m---------------------------------------------------------------------------\u001b[0m",
      "\u001b[0;31mNotImplementedError\u001b[0m                       Traceback (most recent call last)",
      "Cell \u001b[0;32mIn[66], line 3\u001b[0m\n\u001b[1;32m      1\u001b[0m departure_code, arrival_code, date \u001b[38;5;241m=\u001b[39m departuring_details()\n\u001b[1;32m      2\u001b[0m API_info \u001b[38;5;241m=\u001b[39m check_airport(departure_code, arrival_code, date)\n\u001b[0;32m----> 3\u001b[0m flights \u001b[38;5;241m=\u001b[39m get_df(API_info)\n\u001b[1;32m      4\u001b[0m \u001b[38;5;28;01mif\u001b[39;00m flights \u001b[38;5;129;01mis\u001b[39;00m \u001b[38;5;28;01mNone\u001b[39;00m \u001b[38;5;129;01mor\u001b[39;00m flights\u001b[38;5;241m.\u001b[39mempty:\n\u001b[1;32m      5\u001b[0m     \u001b[38;5;28mprint\u001b[39m(\u001b[38;5;124m\"\u001b[39m\u001b[38;5;124mPlease restart the app.\u001b[39m\u001b[38;5;124m\"\u001b[39m)\n",
      "Cell \u001b[0;32mIn[60], line 2\u001b[0m, in \u001b[0;36mget_df\u001b[0;34m(API_info)\u001b[0m\n\u001b[1;32m      1\u001b[0m \u001b[38;5;28;01mdef\u001b[39;00m \u001b[38;5;21mget_df\u001b[39m(API_info):\n\u001b[0;32m----> 2\u001b[0m     df_0 \u001b[38;5;241m=\u001b[39m pd\u001b[38;5;241m.\u001b[39mjson_normalize(API_info)\n\u001b[1;32m      3\u001b[0m     \u001b[38;5;28;01mif\u001b[39;00m \u001b[38;5;28mlen\u001b[39m(df_0[\u001b[38;5;124m'\u001b[39m\u001b[38;5;124mdata.itineraries.topFlights\u001b[39m\u001b[38;5;124m'\u001b[39m][\u001b[38;5;241m0\u001b[39m]) \u001b[38;5;241m<\u001b[39m \u001b[38;5;241m1\u001b[39m:\n\u001b[1;32m      4\u001b[0m         \u001b[38;5;28mprint\u001b[39m(\u001b[38;5;124m\"\u001b[39m\u001b[38;5;124mThere are no flights available for these cities and date.\u001b[39m\u001b[38;5;124m\"\u001b[39m)\n",
      "File \u001b[0;32m~/opt/anaconda3/lib/python3.12/site-packages/pandas/io/json/_normalize.py:445\u001b[0m, in \u001b[0;36mjson_normalize\u001b[0;34m(data, record_path, meta, meta_prefix, record_prefix, errors, sep, max_level)\u001b[0m\n\u001b[1;32m    443\u001b[0m     data \u001b[38;5;241m=\u001b[39m \u001b[38;5;28mlist\u001b[39m(data)\n\u001b[1;32m    444\u001b[0m \u001b[38;5;28;01melse\u001b[39;00m:\n\u001b[0;32m--> 445\u001b[0m     \u001b[38;5;28;01mraise\u001b[39;00m \u001b[38;5;167;01mNotImplementedError\u001b[39;00m\n\u001b[1;32m    447\u001b[0m \u001b[38;5;66;03m# check to see if a simple recursive function is possible to\u001b[39;00m\n\u001b[1;32m    448\u001b[0m \u001b[38;5;66;03m# improve performance (see #15621) but only for cases such\u001b[39;00m\n\u001b[1;32m    449\u001b[0m \u001b[38;5;66;03m# as pd.Dataframe(data) or pd.Dataframe(data, sep)\u001b[39;00m\n\u001b[1;32m    450\u001b[0m \u001b[38;5;28;01mif\u001b[39;00m (\n\u001b[1;32m    451\u001b[0m     record_path \u001b[38;5;129;01mis\u001b[39;00m \u001b[38;5;28;01mNone\u001b[39;00m\n\u001b[1;32m    452\u001b[0m     \u001b[38;5;129;01mand\u001b[39;00m meta \u001b[38;5;129;01mis\u001b[39;00m \u001b[38;5;28;01mNone\u001b[39;00m\n\u001b[0;32m   (...)\u001b[0m\n\u001b[1;32m    455\u001b[0m     \u001b[38;5;129;01mand\u001b[39;00m max_level \u001b[38;5;129;01mis\u001b[39;00m \u001b[38;5;28;01mNone\u001b[39;00m\n\u001b[1;32m    456\u001b[0m ):\n",
      "\u001b[0;31mNotImplementedError\u001b[0m: "
     ]
    }
   ],
   "source": [
    "departure_code, arrival_code, date = departuring_details()\n",
    "API_info = check_airport(departure_code, arrival_code, date)\n",
    "flights = get_df(API_info)\n",
    "if flights is None or flights.empty:\n",
    "    print(\"Please restart the app.\")\n",
    "else:\n",
    "    print(\"Here are the top available flights for your trip:\")\n",
    "    display(flights)\n",
    "    choose_flight()"
   ]
  },
  {
   "cell_type": "code",
   "execution_count": null,
   "id": "aeb83ab6",
   "metadata": {},
   "outputs": [],
   "source": []
  }
 ],
 "metadata": {
  "kernelspec": {
   "display_name": "base",
   "language": "python",
   "name": "python3"
  },
  "language_info": {
   "codemirror_mode": {
    "name": "ipython",
    "version": 3
   },
   "file_extension": ".py",
   "mimetype": "text/x-python",
   "name": "python",
   "nbconvert_exporter": "python",
   "pygments_lexer": "ipython3",
   "version": "3.12.7"
  }
 },
 "nbformat": 4,
 "nbformat_minor": 5
}
