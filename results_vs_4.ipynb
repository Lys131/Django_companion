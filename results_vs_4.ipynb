{
 "cells": [
  {
   "cell_type": "code",
   "execution_count": 1,
   "id": "b5beac95",
   "metadata": {},
   "outputs": [],
   "source": [
    "import pandas as pd\n",
    "import json\n",
    "import ast\n",
    "import requests"
   ]
  },
  {
   "cell_type": "code",
   "execution_count": 50,
   "id": "6664d2e7",
   "metadata": {},
   "outputs": [
    {
     "data": {
      "text/plain": [
       "<module 'functions_2' from '/Users/laurasuemitsu/Desktop/DATA_FT_May_2025/Final project/Notebooks/functions_2.py'>"
      ]
     },
     "execution_count": 50,
     "metadata": {},
     "output_type": "execute_result"
    }
   ],
   "source": [
    "import functions_2\n",
    "\n",
    "import importlib\n",
    "\n",
    "importlib.reload(functions_2)"
   ]
  },
  {
   "cell_type": "code",
   "execution_count": 51,
   "id": "d2f0a023",
   "metadata": {},
   "outputs": [],
   "source": [
    "from functions_2 import wrangling_duration, wrangling_budget, wrangling, remove_months, filter_df, get_airport_code, departuring_details, check_airport, get_df, choose_flight"
   ]
  },
  {
   "cell_type": "code",
   "execution_count": 6,
   "id": "99a4b8cc",
   "metadata": {},
   "outputs": [],
   "source": [
    "file_1 = \"/Users/laurasuemitsu/Desktop/DATA_FT_May_2025/Final project/Tourism datasets Kaggle/Worldwide_Travel_Cities_Dataset_(Ratings_Climate).csv\"\n",
    "\n"
   ]
  },
  {
   "cell_type": "code",
   "execution_count": 7,
   "id": "e9b39d17",
   "metadata": {},
   "outputs": [],
   "source": [
    "travel_df = pd.read_csv(file_1)"
   ]
  },
  {
   "cell_type": "code",
   "execution_count": 8,
   "id": "ff0c8de4",
   "metadata": {},
   "outputs": [],
   "source": [
    "travel_df = wrangling(travel_df)"
   ]
  },
  {
   "cell_type": "code",
   "execution_count": 10,
   "id": "4d7bf85b",
   "metadata": {},
   "outputs": [],
   "source": [
    "file_2 = \"/Users/laurasuemitsu/Desktop/DATA_FT_May_2025/Final project/Notebooks/airports_codes.csv\""
   ]
  },
  {
   "cell_type": "code",
   "execution_count": 11,
   "id": "bc38d20a",
   "metadata": {},
   "outputs": [],
   "source": [
    "airports = pd.read_csv(file_2)"
   ]
  },
  {
   "cell_type": "code",
   "execution_count": 12,
   "id": "76dafedc",
   "metadata": {},
   "outputs": [],
   "source": [
    "airports = airports.drop(columns=\"Unnamed: 0\")"
   ]
  },
  {
   "cell_type": "markdown",
   "id": "cbe68aae",
   "metadata": {},
   "source": [
    "## Welcome! I'm Django, your new companion and tripadvisor.\n",
    "### Run the cell below and let me help you choose your next vacation destination and also search for a departuring flight."
   ]
  },
  {
   "cell_type": "code",
   "execution_count": 52,
   "id": "5129bccd",
   "metadata": {},
   "outputs": [
    {
     "name": "stdout",
     "output_type": "stream",
     "text": [
      "Here are the top 5 cities where you could go according to your preferences: \n"
     ]
    },
    {
     "data": {
      "text/html": [
       "<div>\n",
       "<style scoped>\n",
       "    .dataframe tbody tr th:only-of-type {\n",
       "        vertical-align: middle;\n",
       "    }\n",
       "\n",
       "    .dataframe tbody tr th {\n",
       "        vertical-align: top;\n",
       "    }\n",
       "\n",
       "    .dataframe thead th {\n",
       "        text-align: right;\n",
       "    }\n",
       "</style>\n",
       "<table border=\"1\" class=\"dataframe\">\n",
       "  <thead>\n",
       "    <tr style=\"text-align: right;\">\n",
       "      <th></th>\n",
       "      <th>city</th>\n",
       "      <th>country</th>\n",
       "      <th>short_description</th>\n",
       "      <th>avg_temperature(ºC)</th>\n",
       "    </tr>\n",
       "  </thead>\n",
       "  <tbody>\n",
       "    <tr>\n",
       "      <th>91</th>\n",
       "      <td>Fraser Island</td>\n",
       "      <td>Australia</td>\n",
       "      <td>Endless stretches of sandy beaches, lush rainforests, and crystal-clear freshwater lakes create a serene escape filled with natural wonders and tranquility.</td>\n",
       "      <td>22.0</td>\n",
       "    </tr>\n",
       "    <tr>\n",
       "      <th>29</th>\n",
       "      <td>Livingstone</td>\n",
       "      <td>Zambia</td>\n",
       "      <td>Feel the rush of cascading waterfalls and the thrill of wildlife encounters, all amidst a backdrop of vibrant sunsets and warm local hospitality.</td>\n",
       "      <td>28.0</td>\n",
       "    </tr>\n",
       "    <tr>\n",
       "      <th>209</th>\n",
       "      <td>Namibia</td>\n",
       "      <td>Namibia</td>\n",
       "      <td>Vast desert landscapes meet rugged coastlines, creating a sense of awe and solitude, while vibrant wildlife offers thrilling encounters in nature.</td>\n",
       "      <td>24.3</td>\n",
       "    </tr>\n",
       "    <tr>\n",
       "      <th>353</th>\n",
       "      <td>Ushuaia</td>\n",
       "      <td>Argentina</td>\n",
       "      <td>A windswept frontier town with dramatic landscapes, where the end of the world feels both mysterious and beautifully remote.</td>\n",
       "      <td>6.4</td>\n",
       "    </tr>\n",
       "    <tr>\n",
       "      <th>478</th>\n",
       "      <td>Bariloche</td>\n",
       "      <td>Argentina</td>\n",
       "      <td>Lakeside vistas and snow-capped mountains create a serene backdrop for outdoor adventures and cozy evenings in charming alpine-style lodges.</td>\n",
       "      <td>8.0</td>\n",
       "    </tr>\n",
       "  </tbody>\n",
       "</table>\n",
       "</div>"
      ],
      "text/plain": [
       "              city    country  \\\n",
       "91   Fraser Island  Australia   \n",
       "29     Livingstone     Zambia   \n",
       "209        Namibia    Namibia   \n",
       "353        Ushuaia  Argentina   \n",
       "478      Bariloche  Argentina   \n",
       "\n",
       "                                                                                                                                                short_description  \\\n",
       "91   Endless stretches of sandy beaches, lush rainforests, and crystal-clear freshwater lakes create a serene escape filled with natural wonders and tranquility.   \n",
       "29              Feel the rush of cascading waterfalls and the thrill of wildlife encounters, all amidst a backdrop of vibrant sunsets and warm local hospitality.   \n",
       "209            Vast desert landscapes meet rugged coastlines, creating a sense of awe and solitude, while vibrant wildlife offers thrilling encounters in nature.   \n",
       "353                                  A windswept frontier town with dramatic landscapes, where the end of the world feels both mysterious and beautifully remote.   \n",
       "478                  Lakeside vistas and snow-capped mountains create a serene backdrop for outdoor adventures and cozy evenings in charming alpine-style lodges.   \n",
       "\n",
       "     avg_temperature(ºC)  \n",
       "91                  22.0  \n",
       "29                  28.0  \n",
       "209                 24.3  \n",
       "353                  6.4  \n",
       "478                  8.0  "
      ]
     },
     "metadata": {},
     "output_type": "display_data"
    },
    {
     "name": "stdout",
     "output_type": "stream",
     "text": [
      "CDG  -  AEP  -  2025-10-15  -  2025-10-22\n",
      "Here are the top available flights for your departing trip:\n"
     ]
    },
    {
     "data": {
      "text/html": [
       "<div>\n",
       "<style scoped>\n",
       "    .dataframe tbody tr th:only-of-type {\n",
       "        vertical-align: middle;\n",
       "    }\n",
       "\n",
       "    .dataframe tbody tr th {\n",
       "        vertical-align: top;\n",
       "    }\n",
       "\n",
       "    .dataframe thead th {\n",
       "        text-align: right;\n",
       "    }\n",
       "</style>\n",
       "<table border=\"1\" class=\"dataframe\">\n",
       "  <thead>\n",
       "    <tr style=\"text-align: right;\">\n",
       "      <th></th>\n",
       "      <th>price</th>\n",
       "      <th>airlineNames</th>\n",
       "      <th>departureAirportCode</th>\n",
       "      <th>departureDate</th>\n",
       "      <th>departureTime</th>\n",
       "      <th>arrivalAirportCode</th>\n",
       "      <th>arrivalDate</th>\n",
       "      <th>arrivalTime</th>\n",
       "      <th>duration</th>\n",
       "      <th>stops</th>\n",
       "      <th>transferAirports</th>\n",
       "    </tr>\n",
       "  </thead>\n",
       "  <tbody>\n",
       "    <tr>\n",
       "      <th>1</th>\n",
       "      <td>689</td>\n",
       "      <td>[Avianca]</td>\n",
       "      <td>CDG</td>\n",
       "      <td>2025-10-15</td>\n",
       "      <td>08:45</td>\n",
       "      <td>AEP</td>\n",
       "      <td>2025-10-16</td>\n",
       "      <td>05:40</td>\n",
       "      <td>1555</td>\n",
       "      <td>1</td>\n",
       "      <td>None</td>\n",
       "    </tr>\n",
       "    <tr>\n",
       "      <th>2</th>\n",
       "      <td>897</td>\n",
       "      <td>[Lufthansa, Avianca]</td>\n",
       "      <td>CDG</td>\n",
       "      <td>2025-10-15</td>\n",
       "      <td>10:40</td>\n",
       "      <td>AEP</td>\n",
       "      <td>2025-10-16</td>\n",
       "      <td>05:40</td>\n",
       "      <td>1440</td>\n",
       "      <td>1</td>\n",
       "      <td>None</td>\n",
       "    </tr>\n",
       "    <tr>\n",
       "      <th>3</th>\n",
       "      <td>942</td>\n",
       "      <td>[LATAM]</td>\n",
       "      <td>CDG</td>\n",
       "      <td>2025-10-15</td>\n",
       "      <td>13:00</td>\n",
       "      <td>AEP</td>\n",
       "      <td>2025-10-16</td>\n",
       "      <td>12:00</td>\n",
       "      <td>1680</td>\n",
       "      <td>1</td>\n",
       "      <td>None</td>\n",
       "    </tr>\n",
       "    <tr>\n",
       "      <th>4</th>\n",
       "      <td>983</td>\n",
       "      <td>[LATAM]</td>\n",
       "      <td>CDG</td>\n",
       "      <td>2025-10-15</td>\n",
       "      <td>13:00</td>\n",
       "      <td>AEP</td>\n",
       "      <td>2025-10-16</td>\n",
       "      <td>10:00</td>\n",
       "      <td>1560</td>\n",
       "      <td>1</td>\n",
       "      <td>None</td>\n",
       "    </tr>\n",
       "  </tbody>\n",
       "</table>\n",
       "</div>"
      ],
      "text/plain": [
       "   price          airlineNames departureAirportCode departureDate  \\\n",
       "1    689             [Avianca]                  CDG    2025-10-15   \n",
       "2    897  [Lufthansa, Avianca]                  CDG    2025-10-15   \n",
       "3    942               [LATAM]                  CDG    2025-10-15   \n",
       "4    983               [LATAM]                  CDG    2025-10-15   \n",
       "\n",
       "  departureTime arrivalAirportCode arrivalDate arrivalTime  duration  stops  \\\n",
       "1         08:45                AEP  2025-10-16       05:40      1555      1   \n",
       "2         10:40                AEP  2025-10-16       05:40      1440      1   \n",
       "3         13:00                AEP  2025-10-16       12:00      1680      1   \n",
       "4         13:00                AEP  2025-10-16       10:00      1560      1   \n",
       "\n",
       "  transferAirports  \n",
       "1             None  \n",
       "2             None  \n",
       "3             None  \n",
       "4             None  "
      ]
     },
     "metadata": {},
     "output_type": "display_data"
    },
    {
     "name": "stdout",
     "output_type": "stream",
     "text": [
      "Thank you! Have a great trip.\n"
     ]
    }
   ],
   "source": [
    "message, cities_df = filter_df(travel_df)\n",
    "print(message)\n",
    "display(cities_df)\n",
    "\n",
    "departure_code, arrival_code, dep_date, ret_date = departuring_details()\n",
    "print(departure_code, \" - \", arrival_code, \" - \", dep_date, \" - \", ret_date)\n",
    "\n",
    "API_result = check_airport(departure_code, arrival_code, dep_date)\n",
    "flights = get_df(API_result)\n",
    "\n",
    "if flights is None or flights.empty:\n",
    "    print(\"Please restart the app.\")\n",
    "else:\n",
    "    print(\"Here are the top available flights for your departing trip:\")\n",
    "    display(flights)\n",
    "    choose_flight()"
   ]
  },
  {
   "cell_type": "code",
   "execution_count": null,
   "id": "b33d7c31",
   "metadata": {},
   "outputs": [],
   "source": []
  }
 ],
 "metadata": {
  "kernelspec": {
   "display_name": "base",
   "language": "python",
   "name": "python3"
  },
  "language_info": {
   "codemirror_mode": {
    "name": "ipython",
    "version": 3
   },
   "file_extension": ".py",
   "mimetype": "text/x-python",
   "name": "python",
   "nbconvert_exporter": "python",
   "pygments_lexer": "ipython3",
   "version": "3.12.7"
  }
 },
 "nbformat": 4,
 "nbformat_minor": 5
}
