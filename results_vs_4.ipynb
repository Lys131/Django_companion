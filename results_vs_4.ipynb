{
 "cells": [
  {
   "cell_type": "code",
   "execution_count": 26,
   "id": "b5beac95",
   "metadata": {},
   "outputs": [],
   "source": [
    "import pandas as pd\n",
    "import json\n",
    "import ast\n",
    "import requests"
   ]
  },
  {
   "cell_type": "code",
   "execution_count": 27,
   "id": "6664d2e7",
   "metadata": {},
   "outputs": [
    {
     "data": {
      "text/plain": [
       "<module 'functions' from '/Users/laurasuemitsu/Desktop/DATA_FT_May_2025/Final project/Notebooks/functions.py'>"
      ]
     },
     "execution_count": 27,
     "metadata": {},
     "output_type": "execute_result"
    }
   ],
   "source": [
    "import functions\n",
    "\n",
    "import importlib\n",
    "\n",
    "importlib.reload(functions)"
   ]
  },
  {
   "cell_type": "code",
   "execution_count": 28,
   "id": "d2f0a023",
   "metadata": {},
   "outputs": [],
   "source": [
    "from functions import wrangling_duration, wrangling_budget, wrangling, remove_months, filter_df, get_airport_code, departuring_details, check_airport, get_df, choose_flight"
   ]
  },
  {
   "cell_type": "code",
   "execution_count": 29,
   "id": "99a4b8cc",
   "metadata": {},
   "outputs": [],
   "source": [
    "file_1 = \"/Users/laurasuemitsu/Desktop/DATA_FT_May_2025/Final project/Tourism datasets Kaggle/Worldwide_Travel_Cities_Dataset_(Ratings_Climate).csv\"\n",
    "file_2 = \"/Users/laurasuemitsu/Desktop/DATA_FT_May_2025/Final project/Notebooks/airports_codes.csv\""
   ]
  },
  {
   "cell_type": "code",
   "execution_count": 30,
   "id": "e9b39d17",
   "metadata": {},
   "outputs": [],
   "source": [
    "travel_df = pd.read_csv(file_1)"
   ]
  },
  {
   "cell_type": "code",
   "execution_count": 31,
   "id": "ff0c8de4",
   "metadata": {},
   "outputs": [],
   "source": [
    "travel_df = wrangling(travel_df)"
   ]
  },
  {
   "cell_type": "code",
   "execution_count": 32,
   "id": "bc38d20a",
   "metadata": {},
   "outputs": [],
   "source": [
    "airports = pd.read_csv(file_2)"
   ]
  },
  {
   "cell_type": "markdown",
   "id": "cbe68aae",
   "metadata": {},
   "source": [
    "## Welcome! I'm Django, your new companion and tripadvisor.\n",
    "### Run the cell below and let me help you choose your next vacation destination and also search for a departuring flight."
   ]
  },
  {
   "cell_type": "code",
   "execution_count": null,
   "id": "5129bccd",
   "metadata": {},
   "outputs": [],
   "source": [
    "message, cities_df = filter_df(travel_df)\n",
    "print(message)\n",
    "display(cities_df)\n",
    "departure_code, arrival_code, dep_date, ret_date = departuring_details()\n",
    "print(departure_code, \" - \", arrival_code, \" - \", dep_date, \" - \", ret_date)\n",
    "\n",
    "API_result = check_airport(departure_code, arrival_code, dep_date, ret_date)\n",
    "\n",
    "flights = get_df(API_result)\n",
    "if flights is None or flights.empty:\n",
    "    print(\"Please restart the app.\")\n",
    "else:\n",
    "    print(\"Here are the top available flights for your departing trip:\")\n",
    "    display(flights)\n",
    "    choose_flight()"
   ]
  }
 ],
 "metadata": {
  "kernelspec": {
   "display_name": "base",
   "language": "python",
   "name": "python3"
  },
  "language_info": {
   "codemirror_mode": {
    "name": "ipython",
    "version": 3
   },
   "file_extension": ".py",
   "mimetype": "text/x-python",
   "name": "python",
   "nbconvert_exporter": "python",
   "pygments_lexer": "ipython3",
   "version": "3.12.7"
  }
 },
 "nbformat": 4,
 "nbformat_minor": 5
}
